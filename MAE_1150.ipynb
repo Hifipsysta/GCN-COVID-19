{
 "cells": [
  {
   "cell_type": "code",
   "execution_count": 3,
   "metadata": {},
   "outputs": [],
   "source": [
    "import os\n",
    "os.environ[\"KMP_DUPLICATE_LIB_OK\"]=\"TRUE\""
   ]
  },
  {
   "cell_type": "code",
   "execution_count": 4,
   "metadata": {},
   "outputs": [],
   "source": [
    "import torch as th\n",
    "import torch.nn as nn\n",
    "import dgl\n",
    "from dgl import function as fn\n",
    "import pandas as pd\n",
    "import numpy as np\n",
    "import networkx as nx\n",
    "import matplotlib.pyplot as plt\n",
    "%matplotlib inline\n",
    "from dgl import DGLGraph\n",
    "import torch.nn.functional as F\n",
    "from torch.autograd import Variable\n",
    "import time\n",
    "import seaborn"
   ]
  },
  {
   "cell_type": "markdown",
   "metadata": {},
   "source": [
    "## 实验准备"
   ]
  },
  {
   "cell_type": "code",
   "execution_count": 5,
   "metadata": {},
   "outputs": [],
   "source": [
    "class TAGConv(nn.Module):\n",
    "    def __init__(self,\n",
    "                 in_feats,    \n",
    "                 out_feats,   \n",
    "                 k=2,         \n",
    "                 bias=True,   \n",
    "                 activation=None): \n",
    "        super(TAGConv, self).__init__()   \n",
    "        self._in_feats = in_feats  \n",
    "        self._out_feats = out_feats \n",
    "        self._k = k\n",
    "        self._activation = activation\n",
    "        self.lin = nn.Linear(in_feats * (self._k + 1), out_feats, bias=bias) \n",
    "\n",
    "        self.reset_parameters() \n",
    "\n",
    "\n",
    "    def reset_parameters(self):      \n",
    "        \"\"\"Reinitialize learnable parameters.\"\"\"\n",
    "        gain = nn.init.calculate_gain('relu')     \n",
    "        nn.init.xavier_normal_(self.lin.weight, gain=gain)   \n",
    "\n",
    "        \n",
    "    def forward(self, graph, feat):    \n",
    "        graph = graph.local_var()           \n",
    "        \n",
    "        norm = th.pow(graph.in_degrees().float().clamp(min=1), -0.5) \n",
    "    \n",
    "        \n",
    "        shp = norm.shape + (1,) * (feat.dim() - 1)    \n",
    "        \n",
    "        norm = th.reshape(norm, shp).to(feat.device)  \n",
    "\n",
    "        #D-1/2 A D -1/2 X\n",
    "        fstack = [feat]      \n",
    "        for _ in range(self._k):\n",
    "\n",
    "            rst = fstack[-1] * norm    \n",
    "            \n",
    "            graph.ndata['h'] = rst     \n",
    "\n",
    "            graph.update_all(fn.copy_src(src='h', out='m'),   \n",
    "                             fn.sum(msg='m', out='h'))     \n",
    "           \n",
    "            \n",
    "            rst = graph.ndata['h']     \n",
    "            rst = rst * norm           \n",
    "            fstack.append(rst)         \n",
    "\n",
    "        rst = self.lin(th.cat(fstack, dim=-1))    \n",
    "\n",
    "        if self._activation is not None:\n",
    "            rst = self._activation(rst)             \n",
    "\n",
    "        return rst"
   ]
  },
  {
   "cell_type": "code",
   "execution_count": 6,
   "metadata": {},
   "outputs": [],
   "source": [
    "class GCN(nn.Module):\n",
    "   \n",
    "    def __init__(self,input_dim,hidden_size,num_classes):\n",
    "        super(GCN, self).__init__()\n",
    "        self.gcn1 = TAGConv(input_dim,hidden_size,k=1)\n",
    "        self.gcn2 = TAGConv(hidden_size, num_classes,k=1)\n",
    "        #self.linear = nn.Linear(hidden_size, num_classes)\n",
    "        #self.dropout = nn.Dropout(0.5)\n",
    "        \n",
    "    def forward(self, graph, feature):\n",
    "        h = F.relu(self.gcn1(graph, feature))    #隐藏层运算\n",
    "        h = self.gcn2(graph, h)           #全连接层运算\n",
    "        return h"
   ]
  },
  {
   "cell_type": "code",
   "execution_count": 7,
   "metadata": {},
   "outputs": [
    {
     "data": {
      "text/html": [
       "<div>\n",
       "<style scoped>\n",
       "    .dataframe tbody tr th:only-of-type {\n",
       "        vertical-align: middle;\n",
       "    }\n",
       "\n",
       "    .dataframe tbody tr th {\n",
       "        vertical-align: top;\n",
       "    }\n",
       "\n",
       "    .dataframe thead th {\n",
       "        text-align: right;\n",
       "    }\n",
       "</style>\n",
       "<table border=\"1\" class=\"dataframe\">\n",
       "  <thead>\n",
       "    <tr style=\"text-align: right;\">\n",
       "      <th></th>\n",
       "      <th>武汉市</th>\n",
       "      <th>孝感市</th>\n",
       "      <th>黄冈市</th>\n",
       "      <th>荆州市</th>\n",
       "      <th>鄂州市</th>\n",
       "      <th>随州市</th>\n",
       "      <th>襄阳市</th>\n",
       "      <th>黄石市</th>\n",
       "      <th>宜昌市</th>\n",
       "      <th>荆门市</th>\n",
       "      <th>...</th>\n",
       "      <th>白城市</th>\n",
       "      <th>临沧市</th>\n",
       "      <th>拉萨市</th>\n",
       "      <th>阿坝藏族羌族自治州</th>\n",
       "      <th>阿克苏地区</th>\n",
       "      <th>营口市</th>\n",
       "      <th>琼中黎族苗族自治县</th>\n",
       "      <th>伊春市</th>\n",
       "      <th>兴安盟</th>\n",
       "      <th>金昌市</th>\n",
       "    </tr>\n",
       "  </thead>\n",
       "  <tbody>\n",
       "    <tr>\n",
       "      <td>武汉市</td>\n",
       "      <td>0</td>\n",
       "      <td>1</td>\n",
       "      <td>1</td>\n",
       "      <td>1</td>\n",
       "      <td>1</td>\n",
       "      <td>0</td>\n",
       "      <td>0</td>\n",
       "      <td>1</td>\n",
       "      <td>0</td>\n",
       "      <td>0</td>\n",
       "      <td>...</td>\n",
       "      <td>0</td>\n",
       "      <td>0</td>\n",
       "      <td>0</td>\n",
       "      <td>0</td>\n",
       "      <td>0</td>\n",
       "      <td>0</td>\n",
       "      <td>0</td>\n",
       "      <td>0</td>\n",
       "      <td>0</td>\n",
       "      <td>0</td>\n",
       "    </tr>\n",
       "    <tr>\n",
       "      <td>孝感市</td>\n",
       "      <td>1</td>\n",
       "      <td>0</td>\n",
       "      <td>1</td>\n",
       "      <td>0</td>\n",
       "      <td>0</td>\n",
       "      <td>1</td>\n",
       "      <td>0</td>\n",
       "      <td>0</td>\n",
       "      <td>0</td>\n",
       "      <td>1</td>\n",
       "      <td>...</td>\n",
       "      <td>0</td>\n",
       "      <td>0</td>\n",
       "      <td>0</td>\n",
       "      <td>0</td>\n",
       "      <td>0</td>\n",
       "      <td>0</td>\n",
       "      <td>0</td>\n",
       "      <td>0</td>\n",
       "      <td>0</td>\n",
       "      <td>0</td>\n",
       "    </tr>\n",
       "    <tr>\n",
       "      <td>黄冈市</td>\n",
       "      <td>1</td>\n",
       "      <td>1</td>\n",
       "      <td>0</td>\n",
       "      <td>0</td>\n",
       "      <td>0</td>\n",
       "      <td>0</td>\n",
       "      <td>0</td>\n",
       "      <td>1</td>\n",
       "      <td>0</td>\n",
       "      <td>0</td>\n",
       "      <td>...</td>\n",
       "      <td>0</td>\n",
       "      <td>0</td>\n",
       "      <td>0</td>\n",
       "      <td>0</td>\n",
       "      <td>0</td>\n",
       "      <td>0</td>\n",
       "      <td>0</td>\n",
       "      <td>0</td>\n",
       "      <td>0</td>\n",
       "      <td>0</td>\n",
       "    </tr>\n",
       "    <tr>\n",
       "      <td>荆州市</td>\n",
       "      <td>1</td>\n",
       "      <td>0</td>\n",
       "      <td>0</td>\n",
       "      <td>0</td>\n",
       "      <td>0</td>\n",
       "      <td>0</td>\n",
       "      <td>0</td>\n",
       "      <td>0</td>\n",
       "      <td>1</td>\n",
       "      <td>1</td>\n",
       "      <td>...</td>\n",
       "      <td>0</td>\n",
       "      <td>0</td>\n",
       "      <td>0</td>\n",
       "      <td>0</td>\n",
       "      <td>0</td>\n",
       "      <td>0</td>\n",
       "      <td>0</td>\n",
       "      <td>0</td>\n",
       "      <td>0</td>\n",
       "      <td>0</td>\n",
       "    </tr>\n",
       "    <tr>\n",
       "      <td>鄂州市</td>\n",
       "      <td>1</td>\n",
       "      <td>0</td>\n",
       "      <td>0</td>\n",
       "      <td>0</td>\n",
       "      <td>0</td>\n",
       "      <td>0</td>\n",
       "      <td>0</td>\n",
       "      <td>1</td>\n",
       "      <td>0</td>\n",
       "      <td>0</td>\n",
       "      <td>...</td>\n",
       "      <td>0</td>\n",
       "      <td>0</td>\n",
       "      <td>0</td>\n",
       "      <td>0</td>\n",
       "      <td>0</td>\n",
       "      <td>0</td>\n",
       "      <td>0</td>\n",
       "      <td>0</td>\n",
       "      <td>0</td>\n",
       "      <td>0</td>\n",
       "    </tr>\n",
       "    <tr>\n",
       "      <td>...</td>\n",
       "      <td>...</td>\n",
       "      <td>...</td>\n",
       "      <td>...</td>\n",
       "      <td>...</td>\n",
       "      <td>...</td>\n",
       "      <td>...</td>\n",
       "      <td>...</td>\n",
       "      <td>...</td>\n",
       "      <td>...</td>\n",
       "      <td>...</td>\n",
       "      <td>...</td>\n",
       "      <td>...</td>\n",
       "      <td>...</td>\n",
       "      <td>...</td>\n",
       "      <td>...</td>\n",
       "      <td>...</td>\n",
       "      <td>...</td>\n",
       "      <td>...</td>\n",
       "      <td>...</td>\n",
       "      <td>...</td>\n",
       "      <td>...</td>\n",
       "    </tr>\n",
       "    <tr>\n",
       "      <td>营口市</td>\n",
       "      <td>0</td>\n",
       "      <td>0</td>\n",
       "      <td>0</td>\n",
       "      <td>0</td>\n",
       "      <td>0</td>\n",
       "      <td>0</td>\n",
       "      <td>0</td>\n",
       "      <td>0</td>\n",
       "      <td>0</td>\n",
       "      <td>0</td>\n",
       "      <td>...</td>\n",
       "      <td>0</td>\n",
       "      <td>0</td>\n",
       "      <td>0</td>\n",
       "      <td>0</td>\n",
       "      <td>0</td>\n",
       "      <td>0</td>\n",
       "      <td>0</td>\n",
       "      <td>0</td>\n",
       "      <td>0</td>\n",
       "      <td>0</td>\n",
       "    </tr>\n",
       "    <tr>\n",
       "      <td>琼中黎族苗族自治县</td>\n",
       "      <td>0</td>\n",
       "      <td>0</td>\n",
       "      <td>0</td>\n",
       "      <td>0</td>\n",
       "      <td>0</td>\n",
       "      <td>0</td>\n",
       "      <td>0</td>\n",
       "      <td>0</td>\n",
       "      <td>0</td>\n",
       "      <td>0</td>\n",
       "      <td>...</td>\n",
       "      <td>0</td>\n",
       "      <td>0</td>\n",
       "      <td>0</td>\n",
       "      <td>0</td>\n",
       "      <td>0</td>\n",
       "      <td>0</td>\n",
       "      <td>0</td>\n",
       "      <td>0</td>\n",
       "      <td>0</td>\n",
       "      <td>0</td>\n",
       "    </tr>\n",
       "    <tr>\n",
       "      <td>伊春市</td>\n",
       "      <td>0</td>\n",
       "      <td>0</td>\n",
       "      <td>0</td>\n",
       "      <td>0</td>\n",
       "      <td>0</td>\n",
       "      <td>0</td>\n",
       "      <td>0</td>\n",
       "      <td>0</td>\n",
       "      <td>0</td>\n",
       "      <td>0</td>\n",
       "      <td>...</td>\n",
       "      <td>0</td>\n",
       "      <td>0</td>\n",
       "      <td>0</td>\n",
       "      <td>0</td>\n",
       "      <td>0</td>\n",
       "      <td>0</td>\n",
       "      <td>0</td>\n",
       "      <td>0</td>\n",
       "      <td>0</td>\n",
       "      <td>0</td>\n",
       "    </tr>\n",
       "    <tr>\n",
       "      <td>兴安盟</td>\n",
       "      <td>0</td>\n",
       "      <td>0</td>\n",
       "      <td>0</td>\n",
       "      <td>0</td>\n",
       "      <td>0</td>\n",
       "      <td>0</td>\n",
       "      <td>0</td>\n",
       "      <td>0</td>\n",
       "      <td>0</td>\n",
       "      <td>0</td>\n",
       "      <td>...</td>\n",
       "      <td>0</td>\n",
       "      <td>0</td>\n",
       "      <td>0</td>\n",
       "      <td>0</td>\n",
       "      <td>0</td>\n",
       "      <td>0</td>\n",
       "      <td>0</td>\n",
       "      <td>0</td>\n",
       "      <td>0</td>\n",
       "      <td>0</td>\n",
       "    </tr>\n",
       "    <tr>\n",
       "      <td>金昌市</td>\n",
       "      <td>0</td>\n",
       "      <td>0</td>\n",
       "      <td>0</td>\n",
       "      <td>0</td>\n",
       "      <td>0</td>\n",
       "      <td>0</td>\n",
       "      <td>0</td>\n",
       "      <td>0</td>\n",
       "      <td>0</td>\n",
       "      <td>0</td>\n",
       "      <td>...</td>\n",
       "      <td>0</td>\n",
       "      <td>0</td>\n",
       "      <td>0</td>\n",
       "      <td>0</td>\n",
       "      <td>0</td>\n",
       "      <td>0</td>\n",
       "      <td>0</td>\n",
       "      <td>0</td>\n",
       "      <td>0</td>\n",
       "      <td>0</td>\n",
       "    </tr>\n",
       "  </tbody>\n",
       "</table>\n",
       "<p>327 rows × 327 columns</p>\n",
       "</div>"
      ],
      "text/plain": [
       "           武汉市  孝感市  黄冈市  荆州市  鄂州市  随州市  襄阳市  黄石市  宜昌市  荆门市  ...  白城市  临沧市  \\\n",
       "武汉市          0    1    1    1    1    0    0    1    0    0  ...    0    0   \n",
       "孝感市          1    0    1    0    0    1    0    0    0    1  ...    0    0   \n",
       "黄冈市          1    1    0    0    0    0    0    1    0    0  ...    0    0   \n",
       "荆州市          1    0    0    0    0    0    0    0    1    1  ...    0    0   \n",
       "鄂州市          1    0    0    0    0    0    0    1    0    0  ...    0    0   \n",
       "...        ...  ...  ...  ...  ...  ...  ...  ...  ...  ...  ...  ...  ...   \n",
       "营口市          0    0    0    0    0    0    0    0    0    0  ...    0    0   \n",
       "琼中黎族苗族自治县    0    0    0    0    0    0    0    0    0    0  ...    0    0   \n",
       "伊春市          0    0    0    0    0    0    0    0    0    0  ...    0    0   \n",
       "兴安盟          0    0    0    0    0    0    0    0    0    0  ...    0    0   \n",
       "金昌市          0    0    0    0    0    0    0    0    0    0  ...    0    0   \n",
       "\n",
       "           拉萨市  阿坝藏族羌族自治州  阿克苏地区  营口市  琼中黎族苗族自治县  伊春市  兴安盟  金昌市  \n",
       "武汉市          0          0      0    0          0    0    0    0  \n",
       "孝感市          0          0      0    0          0    0    0    0  \n",
       "黄冈市          0          0      0    0          0    0    0    0  \n",
       "荆州市          0          0      0    0          0    0    0    0  \n",
       "鄂州市          0          0      0    0          0    0    0    0  \n",
       "...        ...        ...    ...  ...        ...  ...  ...  ...  \n",
       "营口市          0          0      0    0          0    0    0    0  \n",
       "琼中黎族苗族自治县    0          0      0    0          0    0    0    0  \n",
       "伊春市          0          0      0    0          0    0    0    0  \n",
       "兴安盟          0          0      0    0          0    0    0    0  \n",
       "金昌市          0          0      0    0          0    0    0    0  \n",
       "\n",
       "[327 rows x 327 columns]"
      ]
     },
     "execution_count": 7,
     "metadata": {},
     "output_type": "execute_result"
    }
   ],
   "source": [
    "A_city=pd.read_excel('Gacross_ADJ.xlsx',index_col=[0])\n",
    "A_city.fillna(value=0,inplace=True)\n",
    "A_city"
   ]
  },
  {
   "cell_type": "code",
   "execution_count": 8,
   "metadata": {
    "scrolled": false
   },
   "outputs": [
    {
     "data": {
      "text/html": [
       "<div>\n",
       "<style scoped>\n",
       "    .dataframe tbody tr th:only-of-type {\n",
       "        vertical-align: middle;\n",
       "    }\n",
       "\n",
       "    .dataframe tbody tr th {\n",
       "        vertical-align: top;\n",
       "    }\n",
       "\n",
       "    .dataframe thead th {\n",
       "        text-align: right;\n",
       "    }\n",
       "</style>\n",
       "<table border=\"1\" class=\"dataframe\">\n",
       "  <thead>\n",
       "    <tr style=\"text-align: right;\">\n",
       "      <th></th>\n",
       "      <th>武汉市</th>\n",
       "      <th>孝感市</th>\n",
       "      <th>黄冈市</th>\n",
       "      <th>荆州市</th>\n",
       "      <th>鄂州市</th>\n",
       "      <th>随州市</th>\n",
       "      <th>襄阳市</th>\n",
       "      <th>黄石市</th>\n",
       "      <th>宜昌市</th>\n",
       "      <th>荆门市</th>\n",
       "      <th>...</th>\n",
       "      <th>白城市</th>\n",
       "      <th>临沧市</th>\n",
       "      <th>拉萨市</th>\n",
       "      <th>阿坝藏族羌族自治州</th>\n",
       "      <th>阿克苏地区</th>\n",
       "      <th>营口市</th>\n",
       "      <th>琼中黎族苗族自治县</th>\n",
       "      <th>伊春市</th>\n",
       "      <th>兴安盟</th>\n",
       "      <th>金昌市</th>\n",
       "    </tr>\n",
       "  </thead>\n",
       "  <tbody>\n",
       "    <tr>\n",
       "      <td>武汉市</td>\n",
       "      <td>0.0</td>\n",
       "      <td>0.0</td>\n",
       "      <td>0.0</td>\n",
       "      <td>0.0</td>\n",
       "      <td>0.0</td>\n",
       "      <td>0.0</td>\n",
       "      <td>1.0</td>\n",
       "      <td>0.0</td>\n",
       "      <td>0.0</td>\n",
       "      <td>0.0</td>\n",
       "      <td>...</td>\n",
       "      <td>0.0</td>\n",
       "      <td>0.0</td>\n",
       "      <td>0.0</td>\n",
       "      <td>0.0</td>\n",
       "      <td>0.0</td>\n",
       "      <td>0.0</td>\n",
       "      <td>0.0</td>\n",
       "      <td>0.0</td>\n",
       "      <td>0.0</td>\n",
       "      <td>0.0</td>\n",
       "    </tr>\n",
       "    <tr>\n",
       "      <td>孝感市</td>\n",
       "      <td>0.0</td>\n",
       "      <td>0.0</td>\n",
       "      <td>0.0</td>\n",
       "      <td>0.0</td>\n",
       "      <td>0.0</td>\n",
       "      <td>0.0</td>\n",
       "      <td>0.0</td>\n",
       "      <td>0.0</td>\n",
       "      <td>0.0</td>\n",
       "      <td>0.0</td>\n",
       "      <td>...</td>\n",
       "      <td>0.0</td>\n",
       "      <td>0.0</td>\n",
       "      <td>0.0</td>\n",
       "      <td>0.0</td>\n",
       "      <td>0.0</td>\n",
       "      <td>0.0</td>\n",
       "      <td>0.0</td>\n",
       "      <td>0.0</td>\n",
       "      <td>0.0</td>\n",
       "      <td>0.0</td>\n",
       "    </tr>\n",
       "    <tr>\n",
       "      <td>黄冈市</td>\n",
       "      <td>0.0</td>\n",
       "      <td>0.0</td>\n",
       "      <td>0.0</td>\n",
       "      <td>0.0</td>\n",
       "      <td>0.0</td>\n",
       "      <td>0.0</td>\n",
       "      <td>0.0</td>\n",
       "      <td>0.0</td>\n",
       "      <td>0.0</td>\n",
       "      <td>0.0</td>\n",
       "      <td>...</td>\n",
       "      <td>0.0</td>\n",
       "      <td>0.0</td>\n",
       "      <td>0.0</td>\n",
       "      <td>0.0</td>\n",
       "      <td>0.0</td>\n",
       "      <td>0.0</td>\n",
       "      <td>0.0</td>\n",
       "      <td>0.0</td>\n",
       "      <td>0.0</td>\n",
       "      <td>0.0</td>\n",
       "    </tr>\n",
       "    <tr>\n",
       "      <td>荆州市</td>\n",
       "      <td>0.0</td>\n",
       "      <td>0.0</td>\n",
       "      <td>0.0</td>\n",
       "      <td>0.0</td>\n",
       "      <td>0.0</td>\n",
       "      <td>0.0</td>\n",
       "      <td>0.0</td>\n",
       "      <td>0.0</td>\n",
       "      <td>0.0</td>\n",
       "      <td>0.0</td>\n",
       "      <td>...</td>\n",
       "      <td>0.0</td>\n",
       "      <td>0.0</td>\n",
       "      <td>0.0</td>\n",
       "      <td>0.0</td>\n",
       "      <td>0.0</td>\n",
       "      <td>0.0</td>\n",
       "      <td>0.0</td>\n",
       "      <td>0.0</td>\n",
       "      <td>0.0</td>\n",
       "      <td>0.0</td>\n",
       "    </tr>\n",
       "    <tr>\n",
       "      <td>鄂州市</td>\n",
       "      <td>0.0</td>\n",
       "      <td>0.0</td>\n",
       "      <td>0.0</td>\n",
       "      <td>0.0</td>\n",
       "      <td>0.0</td>\n",
       "      <td>0.0</td>\n",
       "      <td>0.0</td>\n",
       "      <td>0.0</td>\n",
       "      <td>0.0</td>\n",
       "      <td>0.0</td>\n",
       "      <td>...</td>\n",
       "      <td>0.0</td>\n",
       "      <td>0.0</td>\n",
       "      <td>0.0</td>\n",
       "      <td>0.0</td>\n",
       "      <td>0.0</td>\n",
       "      <td>0.0</td>\n",
       "      <td>0.0</td>\n",
       "      <td>0.0</td>\n",
       "      <td>0.0</td>\n",
       "      <td>0.0</td>\n",
       "    </tr>\n",
       "    <tr>\n",
       "      <td>...</td>\n",
       "      <td>...</td>\n",
       "      <td>...</td>\n",
       "      <td>...</td>\n",
       "      <td>...</td>\n",
       "      <td>...</td>\n",
       "      <td>...</td>\n",
       "      <td>...</td>\n",
       "      <td>...</td>\n",
       "      <td>...</td>\n",
       "      <td>...</td>\n",
       "      <td>...</td>\n",
       "      <td>...</td>\n",
       "      <td>...</td>\n",
       "      <td>...</td>\n",
       "      <td>...</td>\n",
       "      <td>...</td>\n",
       "      <td>...</td>\n",
       "      <td>...</td>\n",
       "      <td>...</td>\n",
       "      <td>...</td>\n",
       "      <td>...</td>\n",
       "    </tr>\n",
       "    <tr>\n",
       "      <td>营口市</td>\n",
       "      <td>0.0</td>\n",
       "      <td>0.0</td>\n",
       "      <td>0.0</td>\n",
       "      <td>0.0</td>\n",
       "      <td>0.0</td>\n",
       "      <td>0.0</td>\n",
       "      <td>0.0</td>\n",
       "      <td>0.0</td>\n",
       "      <td>0.0</td>\n",
       "      <td>0.0</td>\n",
       "      <td>...</td>\n",
       "      <td>0.0</td>\n",
       "      <td>0.0</td>\n",
       "      <td>0.0</td>\n",
       "      <td>0.0</td>\n",
       "      <td>0.0</td>\n",
       "      <td>0.0</td>\n",
       "      <td>0.0</td>\n",
       "      <td>0.0</td>\n",
       "      <td>0.0</td>\n",
       "      <td>0.0</td>\n",
       "    </tr>\n",
       "    <tr>\n",
       "      <td>琼中黎族苗族自治县</td>\n",
       "      <td>0.0</td>\n",
       "      <td>0.0</td>\n",
       "      <td>0.0</td>\n",
       "      <td>0.0</td>\n",
       "      <td>0.0</td>\n",
       "      <td>0.0</td>\n",
       "      <td>0.0</td>\n",
       "      <td>0.0</td>\n",
       "      <td>0.0</td>\n",
       "      <td>0.0</td>\n",
       "      <td>...</td>\n",
       "      <td>0.0</td>\n",
       "      <td>0.0</td>\n",
       "      <td>0.0</td>\n",
       "      <td>0.0</td>\n",
       "      <td>0.0</td>\n",
       "      <td>0.0</td>\n",
       "      <td>0.0</td>\n",
       "      <td>0.0</td>\n",
       "      <td>0.0</td>\n",
       "      <td>0.0</td>\n",
       "    </tr>\n",
       "    <tr>\n",
       "      <td>伊春市</td>\n",
       "      <td>0.0</td>\n",
       "      <td>0.0</td>\n",
       "      <td>0.0</td>\n",
       "      <td>0.0</td>\n",
       "      <td>0.0</td>\n",
       "      <td>0.0</td>\n",
       "      <td>0.0</td>\n",
       "      <td>0.0</td>\n",
       "      <td>0.0</td>\n",
       "      <td>0.0</td>\n",
       "      <td>...</td>\n",
       "      <td>0.0</td>\n",
       "      <td>0.0</td>\n",
       "      <td>0.0</td>\n",
       "      <td>0.0</td>\n",
       "      <td>0.0</td>\n",
       "      <td>0.0</td>\n",
       "      <td>0.0</td>\n",
       "      <td>0.0</td>\n",
       "      <td>0.0</td>\n",
       "      <td>0.0</td>\n",
       "    </tr>\n",
       "    <tr>\n",
       "      <td>兴安盟</td>\n",
       "      <td>0.0</td>\n",
       "      <td>0.0</td>\n",
       "      <td>0.0</td>\n",
       "      <td>0.0</td>\n",
       "      <td>0.0</td>\n",
       "      <td>0.0</td>\n",
       "      <td>0.0</td>\n",
       "      <td>0.0</td>\n",
       "      <td>0.0</td>\n",
       "      <td>0.0</td>\n",
       "      <td>...</td>\n",
       "      <td>0.0</td>\n",
       "      <td>0.0</td>\n",
       "      <td>0.0</td>\n",
       "      <td>0.0</td>\n",
       "      <td>0.0</td>\n",
       "      <td>0.0</td>\n",
       "      <td>0.0</td>\n",
       "      <td>0.0</td>\n",
       "      <td>1.0</td>\n",
       "      <td>0.0</td>\n",
       "    </tr>\n",
       "    <tr>\n",
       "      <td>金昌市</td>\n",
       "      <td>0.0</td>\n",
       "      <td>0.0</td>\n",
       "      <td>0.0</td>\n",
       "      <td>0.0</td>\n",
       "      <td>0.0</td>\n",
       "      <td>0.0</td>\n",
       "      <td>0.0</td>\n",
       "      <td>0.0</td>\n",
       "      <td>0.0</td>\n",
       "      <td>0.0</td>\n",
       "      <td>...</td>\n",
       "      <td>0.0</td>\n",
       "      <td>0.0</td>\n",
       "      <td>0.0</td>\n",
       "      <td>0.0</td>\n",
       "      <td>0.0</td>\n",
       "      <td>0.0</td>\n",
       "      <td>0.0</td>\n",
       "      <td>0.0</td>\n",
       "      <td>0.0</td>\n",
       "      <td>0.0</td>\n",
       "    </tr>\n",
       "  </tbody>\n",
       "</table>\n",
       "<p>327 rows × 327 columns</p>\n",
       "</div>"
      ],
      "text/plain": [
       "           武汉市  孝感市  黄冈市  荆州市  鄂州市  随州市  襄阳市  黄石市  宜昌市  荆门市  ...  白城市  临沧市  \\\n",
       "武汉市        0.0  0.0  0.0  0.0  0.0  0.0  1.0  0.0  0.0  0.0  ...  0.0  0.0   \n",
       "孝感市        0.0  0.0  0.0  0.0  0.0  0.0  0.0  0.0  0.0  0.0  ...  0.0  0.0   \n",
       "黄冈市        0.0  0.0  0.0  0.0  0.0  0.0  0.0  0.0  0.0  0.0  ...  0.0  0.0   \n",
       "荆州市        0.0  0.0  0.0  0.0  0.0  0.0  0.0  0.0  0.0  0.0  ...  0.0  0.0   \n",
       "鄂州市        0.0  0.0  0.0  0.0  0.0  0.0  0.0  0.0  0.0  0.0  ...  0.0  0.0   \n",
       "...        ...  ...  ...  ...  ...  ...  ...  ...  ...  ...  ...  ...  ...   \n",
       "营口市        0.0  0.0  0.0  0.0  0.0  0.0  0.0  0.0  0.0  0.0  ...  0.0  0.0   \n",
       "琼中黎族苗族自治县  0.0  0.0  0.0  0.0  0.0  0.0  0.0  0.0  0.0  0.0  ...  0.0  0.0   \n",
       "伊春市        0.0  0.0  0.0  0.0  0.0  0.0  0.0  0.0  0.0  0.0  ...  0.0  0.0   \n",
       "兴安盟        0.0  0.0  0.0  0.0  0.0  0.0  0.0  0.0  0.0  0.0  ...  0.0  0.0   \n",
       "金昌市        0.0  0.0  0.0  0.0  0.0  0.0  0.0  0.0  0.0  0.0  ...  0.0  0.0   \n",
       "\n",
       "           拉萨市  阿坝藏族羌族自治州  阿克苏地区  营口市  琼中黎族苗族自治县  伊春市  兴安盟  金昌市  \n",
       "武汉市        0.0        0.0    0.0  0.0        0.0  0.0  0.0  0.0  \n",
       "孝感市        0.0        0.0    0.0  0.0        0.0  0.0  0.0  0.0  \n",
       "黄冈市        0.0        0.0    0.0  0.0        0.0  0.0  0.0  0.0  \n",
       "荆州市        0.0        0.0    0.0  0.0        0.0  0.0  0.0  0.0  \n",
       "鄂州市        0.0        0.0    0.0  0.0        0.0  0.0  0.0  0.0  \n",
       "...        ...        ...    ...  ...        ...  ...  ...  ...  \n",
       "营口市        0.0        0.0    0.0  0.0        0.0  0.0  0.0  0.0  \n",
       "琼中黎族苗族自治县  0.0        0.0    0.0  0.0        0.0  0.0  0.0  0.0  \n",
       "伊春市        0.0        0.0    0.0  0.0        0.0  0.0  0.0  0.0  \n",
       "兴安盟        0.0        0.0    0.0  0.0        0.0  0.0  1.0  0.0  \n",
       "金昌市        0.0        0.0    0.0  0.0        0.0  0.0  0.0  0.0  \n",
       "\n",
       "[327 rows x 327 columns]"
      ]
     },
     "execution_count": 8,
     "metadata": {},
     "output_type": "execute_result"
    }
   ],
   "source": [
    "A_plane = pd.read_csv('plane_312.csv',index_col=[0])\n",
    "A_plane.fillna(value=0,inplace=True)\n",
    "A_plane"
   ]
  },
  {
   "cell_type": "code",
   "execution_count": 9,
   "metadata": {},
   "outputs": [
    {
     "data": {
      "text/html": [
       "<div>\n",
       "<style scoped>\n",
       "    .dataframe tbody tr th:only-of-type {\n",
       "        vertical-align: middle;\n",
       "    }\n",
       "\n",
       "    .dataframe tbody tr th {\n",
       "        vertical-align: top;\n",
       "    }\n",
       "\n",
       "    .dataframe thead th {\n",
       "        text-align: right;\n",
       "    }\n",
       "</style>\n",
       "<table border=\"1\" class=\"dataframe\">\n",
       "  <thead>\n",
       "    <tr style=\"text-align: right;\">\n",
       "      <th></th>\n",
       "      <th>武汉市</th>\n",
       "      <th>孝感市</th>\n",
       "      <th>黄冈市</th>\n",
       "      <th>荆州市</th>\n",
       "      <th>鄂州市</th>\n",
       "      <th>随州市</th>\n",
       "      <th>襄阳市</th>\n",
       "      <th>黄石市</th>\n",
       "      <th>宜昌市</th>\n",
       "      <th>荆门市</th>\n",
       "      <th>...</th>\n",
       "      <th>白城市</th>\n",
       "      <th>临沧市</th>\n",
       "      <th>拉萨市</th>\n",
       "      <th>阿坝藏族羌族自治州</th>\n",
       "      <th>阿克苏地区</th>\n",
       "      <th>营口市</th>\n",
       "      <th>琼中黎族苗族自治县</th>\n",
       "      <th>伊春市</th>\n",
       "      <th>兴安盟</th>\n",
       "      <th>金昌市</th>\n",
       "    </tr>\n",
       "  </thead>\n",
       "  <tbody>\n",
       "    <tr>\n",
       "      <td>武汉市</td>\n",
       "      <td>1</td>\n",
       "      <td>1</td>\n",
       "      <td>1</td>\n",
       "      <td>0</td>\n",
       "      <td>1</td>\n",
       "      <td>0</td>\n",
       "      <td>0</td>\n",
       "      <td>1</td>\n",
       "      <td>1</td>\n",
       "      <td>0</td>\n",
       "      <td>...</td>\n",
       "      <td>0</td>\n",
       "      <td>0</td>\n",
       "      <td>0</td>\n",
       "      <td>0</td>\n",
       "      <td>0</td>\n",
       "      <td>1</td>\n",
       "      <td>0</td>\n",
       "      <td>0</td>\n",
       "      <td>0</td>\n",
       "      <td>0</td>\n",
       "    </tr>\n",
       "    <tr>\n",
       "      <td>孝感市</td>\n",
       "      <td>1</td>\n",
       "      <td>0</td>\n",
       "      <td>0</td>\n",
       "      <td>0</td>\n",
       "      <td>0</td>\n",
       "      <td>0</td>\n",
       "      <td>0</td>\n",
       "      <td>0</td>\n",
       "      <td>0</td>\n",
       "      <td>0</td>\n",
       "      <td>...</td>\n",
       "      <td>0</td>\n",
       "      <td>0</td>\n",
       "      <td>0</td>\n",
       "      <td>0</td>\n",
       "      <td>0</td>\n",
       "      <td>0</td>\n",
       "      <td>0</td>\n",
       "      <td>0</td>\n",
       "      <td>0</td>\n",
       "      <td>0</td>\n",
       "    </tr>\n",
       "    <tr>\n",
       "      <td>黄冈市</td>\n",
       "      <td>1</td>\n",
       "      <td>0</td>\n",
       "      <td>0</td>\n",
       "      <td>0</td>\n",
       "      <td>0</td>\n",
       "      <td>0</td>\n",
       "      <td>0</td>\n",
       "      <td>0</td>\n",
       "      <td>0</td>\n",
       "      <td>0</td>\n",
       "      <td>...</td>\n",
       "      <td>0</td>\n",
       "      <td>0</td>\n",
       "      <td>0</td>\n",
       "      <td>0</td>\n",
       "      <td>0</td>\n",
       "      <td>0</td>\n",
       "      <td>0</td>\n",
       "      <td>0</td>\n",
       "      <td>0</td>\n",
       "      <td>0</td>\n",
       "    </tr>\n",
       "    <tr>\n",
       "      <td>荆州市</td>\n",
       "      <td>0</td>\n",
       "      <td>0</td>\n",
       "      <td>0</td>\n",
       "      <td>0</td>\n",
       "      <td>0</td>\n",
       "      <td>0</td>\n",
       "      <td>0</td>\n",
       "      <td>0</td>\n",
       "      <td>1</td>\n",
       "      <td>0</td>\n",
       "      <td>...</td>\n",
       "      <td>0</td>\n",
       "      <td>0</td>\n",
       "      <td>0</td>\n",
       "      <td>0</td>\n",
       "      <td>0</td>\n",
       "      <td>0</td>\n",
       "      <td>0</td>\n",
       "      <td>0</td>\n",
       "      <td>0</td>\n",
       "      <td>0</td>\n",
       "    </tr>\n",
       "    <tr>\n",
       "      <td>鄂州市</td>\n",
       "      <td>1</td>\n",
       "      <td>0</td>\n",
       "      <td>0</td>\n",
       "      <td>0</td>\n",
       "      <td>0</td>\n",
       "      <td>0</td>\n",
       "      <td>0</td>\n",
       "      <td>0</td>\n",
       "      <td>1</td>\n",
       "      <td>0</td>\n",
       "      <td>...</td>\n",
       "      <td>0</td>\n",
       "      <td>0</td>\n",
       "      <td>0</td>\n",
       "      <td>0</td>\n",
       "      <td>0</td>\n",
       "      <td>0</td>\n",
       "      <td>0</td>\n",
       "      <td>0</td>\n",
       "      <td>0</td>\n",
       "      <td>0</td>\n",
       "    </tr>\n",
       "    <tr>\n",
       "      <td>...</td>\n",
       "      <td>...</td>\n",
       "      <td>...</td>\n",
       "      <td>...</td>\n",
       "      <td>...</td>\n",
       "      <td>...</td>\n",
       "      <td>...</td>\n",
       "      <td>...</td>\n",
       "      <td>...</td>\n",
       "      <td>...</td>\n",
       "      <td>...</td>\n",
       "      <td>...</td>\n",
       "      <td>...</td>\n",
       "      <td>...</td>\n",
       "      <td>...</td>\n",
       "      <td>...</td>\n",
       "      <td>...</td>\n",
       "      <td>...</td>\n",
       "      <td>...</td>\n",
       "      <td>...</td>\n",
       "      <td>...</td>\n",
       "      <td>...</td>\n",
       "    </tr>\n",
       "    <tr>\n",
       "      <td>营口市</td>\n",
       "      <td>1</td>\n",
       "      <td>0</td>\n",
       "      <td>0</td>\n",
       "      <td>0</td>\n",
       "      <td>0</td>\n",
       "      <td>0</td>\n",
       "      <td>0</td>\n",
       "      <td>0</td>\n",
       "      <td>0</td>\n",
       "      <td>0</td>\n",
       "      <td>...</td>\n",
       "      <td>0</td>\n",
       "      <td>0</td>\n",
       "      <td>0</td>\n",
       "      <td>0</td>\n",
       "      <td>0</td>\n",
       "      <td>0</td>\n",
       "      <td>0</td>\n",
       "      <td>0</td>\n",
       "      <td>0</td>\n",
       "      <td>0</td>\n",
       "    </tr>\n",
       "    <tr>\n",
       "      <td>琼中黎族苗族自治县</td>\n",
       "      <td>0</td>\n",
       "      <td>0</td>\n",
       "      <td>0</td>\n",
       "      <td>0</td>\n",
       "      <td>0</td>\n",
       "      <td>0</td>\n",
       "      <td>0</td>\n",
       "      <td>0</td>\n",
       "      <td>0</td>\n",
       "      <td>0</td>\n",
       "      <td>...</td>\n",
       "      <td>0</td>\n",
       "      <td>0</td>\n",
       "      <td>0</td>\n",
       "      <td>0</td>\n",
       "      <td>0</td>\n",
       "      <td>0</td>\n",
       "      <td>0</td>\n",
       "      <td>0</td>\n",
       "      <td>0</td>\n",
       "      <td>0</td>\n",
       "    </tr>\n",
       "    <tr>\n",
       "      <td>伊春市</td>\n",
       "      <td>0</td>\n",
       "      <td>0</td>\n",
       "      <td>0</td>\n",
       "      <td>0</td>\n",
       "      <td>0</td>\n",
       "      <td>0</td>\n",
       "      <td>0</td>\n",
       "      <td>0</td>\n",
       "      <td>0</td>\n",
       "      <td>0</td>\n",
       "      <td>...</td>\n",
       "      <td>0</td>\n",
       "      <td>0</td>\n",
       "      <td>0</td>\n",
       "      <td>0</td>\n",
       "      <td>0</td>\n",
       "      <td>0</td>\n",
       "      <td>0</td>\n",
       "      <td>0</td>\n",
       "      <td>0</td>\n",
       "      <td>0</td>\n",
       "    </tr>\n",
       "    <tr>\n",
       "      <td>兴安盟</td>\n",
       "      <td>0</td>\n",
       "      <td>0</td>\n",
       "      <td>0</td>\n",
       "      <td>0</td>\n",
       "      <td>0</td>\n",
       "      <td>0</td>\n",
       "      <td>0</td>\n",
       "      <td>0</td>\n",
       "      <td>0</td>\n",
       "      <td>0</td>\n",
       "      <td>...</td>\n",
       "      <td>0</td>\n",
       "      <td>0</td>\n",
       "      <td>0</td>\n",
       "      <td>0</td>\n",
       "      <td>0</td>\n",
       "      <td>0</td>\n",
       "      <td>0</td>\n",
       "      <td>0</td>\n",
       "      <td>0</td>\n",
       "      <td>0</td>\n",
       "    </tr>\n",
       "    <tr>\n",
       "      <td>金昌市</td>\n",
       "      <td>0</td>\n",
       "      <td>0</td>\n",
       "      <td>0</td>\n",
       "      <td>0</td>\n",
       "      <td>0</td>\n",
       "      <td>0</td>\n",
       "      <td>0</td>\n",
       "      <td>0</td>\n",
       "      <td>0</td>\n",
       "      <td>0</td>\n",
       "      <td>...</td>\n",
       "      <td>0</td>\n",
       "      <td>0</td>\n",
       "      <td>0</td>\n",
       "      <td>0</td>\n",
       "      <td>0</td>\n",
       "      <td>0</td>\n",
       "      <td>0</td>\n",
       "      <td>0</td>\n",
       "      <td>0</td>\n",
       "      <td>0</td>\n",
       "    </tr>\n",
       "  </tbody>\n",
       "</table>\n",
       "<p>327 rows × 327 columns</p>\n",
       "</div>"
      ],
      "text/plain": [
       "           武汉市  孝感市  黄冈市  荆州市  鄂州市  随州市  襄阳市  黄石市  宜昌市  荆门市  ...  白城市  临沧市  \\\n",
       "武汉市          1    1    1    0    1    0    0    1    1    0  ...    0    0   \n",
       "孝感市          1    0    0    0    0    0    0    0    0    0  ...    0    0   \n",
       "黄冈市          1    0    0    0    0    0    0    0    0    0  ...    0    0   \n",
       "荆州市          0    0    0    0    0    0    0    0    1    0  ...    0    0   \n",
       "鄂州市          1    0    0    0    0    0    0    0    1    0  ...    0    0   \n",
       "...        ...  ...  ...  ...  ...  ...  ...  ...  ...  ...  ...  ...  ...   \n",
       "营口市          1    0    0    0    0    0    0    0    0    0  ...    0    0   \n",
       "琼中黎族苗族自治县    0    0    0    0    0    0    0    0    0    0  ...    0    0   \n",
       "伊春市          0    0    0    0    0    0    0    0    0    0  ...    0    0   \n",
       "兴安盟          0    0    0    0    0    0    0    0    0    0  ...    0    0   \n",
       "金昌市          0    0    0    0    0    0    0    0    0    0  ...    0    0   \n",
       "\n",
       "           拉萨市  阿坝藏族羌族自治州  阿克苏地区  营口市  琼中黎族苗族自治县  伊春市  兴安盟  金昌市  \n",
       "武汉市          0          0      0    1          0    0    0    0  \n",
       "孝感市          0          0      0    0          0    0    0    0  \n",
       "黄冈市          0          0      0    0          0    0    0    0  \n",
       "荆州市          0          0      0    0          0    0    0    0  \n",
       "鄂州市          0          0      0    0          0    0    0    0  \n",
       "...        ...        ...    ...  ...        ...  ...  ...  ...  \n",
       "营口市          0          0      0    0          0    0    0    0  \n",
       "琼中黎族苗族自治县    0          0      0    0          0    0    0    0  \n",
       "伊春市          0          0      0    0          0    0    0    0  \n",
       "兴安盟          0          0      0    0          0    0    0    0  \n",
       "金昌市          0          0      0    0          0    0    0    0  \n",
       "\n",
       "[327 rows x 327 columns]"
      ]
     },
     "execution_count": 9,
     "metadata": {},
     "output_type": "execute_result"
    }
   ],
   "source": [
    "A_train = pd.read_csv('train_312.csv',index_col=[0])\n",
    "A_train.fillna(value=0,inplace=True)\n",
    "A_train"
   ]
  },
  {
   "cell_type": "code",
   "execution_count": 10,
   "metadata": {},
   "outputs": [
    {
     "data": {
      "text/html": [
       "<div>\n",
       "<style scoped>\n",
       "    .dataframe tbody tr th:only-of-type {\n",
       "        vertical-align: middle;\n",
       "    }\n",
       "\n",
       "    .dataframe tbody tr th {\n",
       "        vertical-align: top;\n",
       "    }\n",
       "\n",
       "    .dataframe thead th {\n",
       "        text-align: right;\n",
       "    }\n",
       "</style>\n",
       "<table border=\"1\" class=\"dataframe\">\n",
       "  <thead>\n",
       "    <tr style=\"text-align: right;\">\n",
       "      <th></th>\n",
       "      <th>武汉市</th>\n",
       "      <th>孝感市</th>\n",
       "      <th>黄冈市</th>\n",
       "      <th>荆州市</th>\n",
       "      <th>鄂州市</th>\n",
       "      <th>随州市</th>\n",
       "      <th>襄阳市</th>\n",
       "      <th>黄石市</th>\n",
       "      <th>宜昌市</th>\n",
       "      <th>荆门市</th>\n",
       "      <th>...</th>\n",
       "      <th>白城市</th>\n",
       "      <th>临沧市</th>\n",
       "      <th>拉萨市</th>\n",
       "      <th>阿坝藏族羌族自治州</th>\n",
       "      <th>阿克苏地区</th>\n",
       "      <th>营口市</th>\n",
       "      <th>琼中黎族苗族自治县</th>\n",
       "      <th>伊春市</th>\n",
       "      <th>兴安盟</th>\n",
       "      <th>金昌市</th>\n",
       "    </tr>\n",
       "  </thead>\n",
       "  <tbody>\n",
       "    <tr>\n",
       "      <td>武汉市</td>\n",
       "      <td>1.0</td>\n",
       "      <td>1.0</td>\n",
       "      <td>1.0</td>\n",
       "      <td>0.0</td>\n",
       "      <td>1.0</td>\n",
       "      <td>0.0</td>\n",
       "      <td>1.0</td>\n",
       "      <td>1.0</td>\n",
       "      <td>1.0</td>\n",
       "      <td>0.0</td>\n",
       "      <td>...</td>\n",
       "      <td>0.0</td>\n",
       "      <td>0.0</td>\n",
       "      <td>0.0</td>\n",
       "      <td>0.0</td>\n",
       "      <td>0.0</td>\n",
       "      <td>1.0</td>\n",
       "      <td>0.0</td>\n",
       "      <td>0.0</td>\n",
       "      <td>0.0</td>\n",
       "      <td>0.0</td>\n",
       "    </tr>\n",
       "    <tr>\n",
       "      <td>孝感市</td>\n",
       "      <td>1.0</td>\n",
       "      <td>0.0</td>\n",
       "      <td>0.0</td>\n",
       "      <td>0.0</td>\n",
       "      <td>0.0</td>\n",
       "      <td>0.0</td>\n",
       "      <td>0.0</td>\n",
       "      <td>0.0</td>\n",
       "      <td>0.0</td>\n",
       "      <td>0.0</td>\n",
       "      <td>...</td>\n",
       "      <td>0.0</td>\n",
       "      <td>0.0</td>\n",
       "      <td>0.0</td>\n",
       "      <td>0.0</td>\n",
       "      <td>0.0</td>\n",
       "      <td>0.0</td>\n",
       "      <td>0.0</td>\n",
       "      <td>0.0</td>\n",
       "      <td>0.0</td>\n",
       "      <td>0.0</td>\n",
       "    </tr>\n",
       "    <tr>\n",
       "      <td>黄冈市</td>\n",
       "      <td>1.0</td>\n",
       "      <td>0.0</td>\n",
       "      <td>0.0</td>\n",
       "      <td>0.0</td>\n",
       "      <td>0.0</td>\n",
       "      <td>0.0</td>\n",
       "      <td>0.0</td>\n",
       "      <td>0.0</td>\n",
       "      <td>0.0</td>\n",
       "      <td>0.0</td>\n",
       "      <td>...</td>\n",
       "      <td>0.0</td>\n",
       "      <td>0.0</td>\n",
       "      <td>0.0</td>\n",
       "      <td>0.0</td>\n",
       "      <td>0.0</td>\n",
       "      <td>0.0</td>\n",
       "      <td>0.0</td>\n",
       "      <td>0.0</td>\n",
       "      <td>0.0</td>\n",
       "      <td>0.0</td>\n",
       "    </tr>\n",
       "    <tr>\n",
       "      <td>荆州市</td>\n",
       "      <td>0.0</td>\n",
       "      <td>0.0</td>\n",
       "      <td>0.0</td>\n",
       "      <td>0.0</td>\n",
       "      <td>0.0</td>\n",
       "      <td>0.0</td>\n",
       "      <td>0.0</td>\n",
       "      <td>0.0</td>\n",
       "      <td>1.0</td>\n",
       "      <td>0.0</td>\n",
       "      <td>...</td>\n",
       "      <td>0.0</td>\n",
       "      <td>0.0</td>\n",
       "      <td>0.0</td>\n",
       "      <td>0.0</td>\n",
       "      <td>0.0</td>\n",
       "      <td>0.0</td>\n",
       "      <td>0.0</td>\n",
       "      <td>0.0</td>\n",
       "      <td>0.0</td>\n",
       "      <td>0.0</td>\n",
       "    </tr>\n",
       "    <tr>\n",
       "      <td>鄂州市</td>\n",
       "      <td>1.0</td>\n",
       "      <td>0.0</td>\n",
       "      <td>0.0</td>\n",
       "      <td>0.0</td>\n",
       "      <td>0.0</td>\n",
       "      <td>0.0</td>\n",
       "      <td>0.0</td>\n",
       "      <td>0.0</td>\n",
       "      <td>1.0</td>\n",
       "      <td>0.0</td>\n",
       "      <td>...</td>\n",
       "      <td>0.0</td>\n",
       "      <td>0.0</td>\n",
       "      <td>0.0</td>\n",
       "      <td>0.0</td>\n",
       "      <td>0.0</td>\n",
       "      <td>0.0</td>\n",
       "      <td>0.0</td>\n",
       "      <td>0.0</td>\n",
       "      <td>0.0</td>\n",
       "      <td>0.0</td>\n",
       "    </tr>\n",
       "    <tr>\n",
       "      <td>...</td>\n",
       "      <td>...</td>\n",
       "      <td>...</td>\n",
       "      <td>...</td>\n",
       "      <td>...</td>\n",
       "      <td>...</td>\n",
       "      <td>...</td>\n",
       "      <td>...</td>\n",
       "      <td>...</td>\n",
       "      <td>...</td>\n",
       "      <td>...</td>\n",
       "      <td>...</td>\n",
       "      <td>...</td>\n",
       "      <td>...</td>\n",
       "      <td>...</td>\n",
       "      <td>...</td>\n",
       "      <td>...</td>\n",
       "      <td>...</td>\n",
       "      <td>...</td>\n",
       "      <td>...</td>\n",
       "      <td>...</td>\n",
       "      <td>...</td>\n",
       "    </tr>\n",
       "    <tr>\n",
       "      <td>营口市</td>\n",
       "      <td>1.0</td>\n",
       "      <td>0.0</td>\n",
       "      <td>0.0</td>\n",
       "      <td>0.0</td>\n",
       "      <td>0.0</td>\n",
       "      <td>0.0</td>\n",
       "      <td>0.0</td>\n",
       "      <td>0.0</td>\n",
       "      <td>0.0</td>\n",
       "      <td>0.0</td>\n",
       "      <td>...</td>\n",
       "      <td>0.0</td>\n",
       "      <td>0.0</td>\n",
       "      <td>0.0</td>\n",
       "      <td>0.0</td>\n",
       "      <td>0.0</td>\n",
       "      <td>0.0</td>\n",
       "      <td>0.0</td>\n",
       "      <td>0.0</td>\n",
       "      <td>0.0</td>\n",
       "      <td>0.0</td>\n",
       "    </tr>\n",
       "    <tr>\n",
       "      <td>琼中黎族苗族自治县</td>\n",
       "      <td>0.0</td>\n",
       "      <td>0.0</td>\n",
       "      <td>0.0</td>\n",
       "      <td>0.0</td>\n",
       "      <td>0.0</td>\n",
       "      <td>0.0</td>\n",
       "      <td>0.0</td>\n",
       "      <td>0.0</td>\n",
       "      <td>0.0</td>\n",
       "      <td>0.0</td>\n",
       "      <td>...</td>\n",
       "      <td>0.0</td>\n",
       "      <td>0.0</td>\n",
       "      <td>0.0</td>\n",
       "      <td>0.0</td>\n",
       "      <td>0.0</td>\n",
       "      <td>0.0</td>\n",
       "      <td>0.0</td>\n",
       "      <td>0.0</td>\n",
       "      <td>0.0</td>\n",
       "      <td>0.0</td>\n",
       "    </tr>\n",
       "    <tr>\n",
       "      <td>伊春市</td>\n",
       "      <td>0.0</td>\n",
       "      <td>0.0</td>\n",
       "      <td>0.0</td>\n",
       "      <td>0.0</td>\n",
       "      <td>0.0</td>\n",
       "      <td>0.0</td>\n",
       "      <td>0.0</td>\n",
       "      <td>0.0</td>\n",
       "      <td>0.0</td>\n",
       "      <td>0.0</td>\n",
       "      <td>...</td>\n",
       "      <td>0.0</td>\n",
       "      <td>0.0</td>\n",
       "      <td>0.0</td>\n",
       "      <td>0.0</td>\n",
       "      <td>0.0</td>\n",
       "      <td>0.0</td>\n",
       "      <td>0.0</td>\n",
       "      <td>0.0</td>\n",
       "      <td>0.0</td>\n",
       "      <td>0.0</td>\n",
       "    </tr>\n",
       "    <tr>\n",
       "      <td>兴安盟</td>\n",
       "      <td>0.0</td>\n",
       "      <td>0.0</td>\n",
       "      <td>0.0</td>\n",
       "      <td>0.0</td>\n",
       "      <td>0.0</td>\n",
       "      <td>0.0</td>\n",
       "      <td>0.0</td>\n",
       "      <td>0.0</td>\n",
       "      <td>0.0</td>\n",
       "      <td>0.0</td>\n",
       "      <td>...</td>\n",
       "      <td>0.0</td>\n",
       "      <td>0.0</td>\n",
       "      <td>0.0</td>\n",
       "      <td>0.0</td>\n",
       "      <td>0.0</td>\n",
       "      <td>0.0</td>\n",
       "      <td>0.0</td>\n",
       "      <td>0.0</td>\n",
       "      <td>1.0</td>\n",
       "      <td>0.0</td>\n",
       "    </tr>\n",
       "    <tr>\n",
       "      <td>金昌市</td>\n",
       "      <td>0.0</td>\n",
       "      <td>0.0</td>\n",
       "      <td>0.0</td>\n",
       "      <td>0.0</td>\n",
       "      <td>0.0</td>\n",
       "      <td>0.0</td>\n",
       "      <td>0.0</td>\n",
       "      <td>0.0</td>\n",
       "      <td>0.0</td>\n",
       "      <td>0.0</td>\n",
       "      <td>...</td>\n",
       "      <td>0.0</td>\n",
       "      <td>0.0</td>\n",
       "      <td>0.0</td>\n",
       "      <td>0.0</td>\n",
       "      <td>0.0</td>\n",
       "      <td>0.0</td>\n",
       "      <td>0.0</td>\n",
       "      <td>0.0</td>\n",
       "      <td>0.0</td>\n",
       "      <td>0.0</td>\n",
       "    </tr>\n",
       "  </tbody>\n",
       "</table>\n",
       "<p>327 rows × 327 columns</p>\n",
       "</div>"
      ],
      "text/plain": [
       "           武汉市  孝感市  黄冈市  荆州市  鄂州市  随州市  襄阳市  黄石市  宜昌市  荆门市  ...  白城市  临沧市  \\\n",
       "武汉市        1.0  1.0  1.0  0.0  1.0  0.0  1.0  1.0  1.0  0.0  ...  0.0  0.0   \n",
       "孝感市        1.0  0.0  0.0  0.0  0.0  0.0  0.0  0.0  0.0  0.0  ...  0.0  0.0   \n",
       "黄冈市        1.0  0.0  0.0  0.0  0.0  0.0  0.0  0.0  0.0  0.0  ...  0.0  0.0   \n",
       "荆州市        0.0  0.0  0.0  0.0  0.0  0.0  0.0  0.0  1.0  0.0  ...  0.0  0.0   \n",
       "鄂州市        1.0  0.0  0.0  0.0  0.0  0.0  0.0  0.0  1.0  0.0  ...  0.0  0.0   \n",
       "...        ...  ...  ...  ...  ...  ...  ...  ...  ...  ...  ...  ...  ...   \n",
       "营口市        1.0  0.0  0.0  0.0  0.0  0.0  0.0  0.0  0.0  0.0  ...  0.0  0.0   \n",
       "琼中黎族苗族自治县  0.0  0.0  0.0  0.0  0.0  0.0  0.0  0.0  0.0  0.0  ...  0.0  0.0   \n",
       "伊春市        0.0  0.0  0.0  0.0  0.0  0.0  0.0  0.0  0.0  0.0  ...  0.0  0.0   \n",
       "兴安盟        0.0  0.0  0.0  0.0  0.0  0.0  0.0  0.0  0.0  0.0  ...  0.0  0.0   \n",
       "金昌市        0.0  0.0  0.0  0.0  0.0  0.0  0.0  0.0  0.0  0.0  ...  0.0  0.0   \n",
       "\n",
       "           拉萨市  阿坝藏族羌族自治州  阿克苏地区  营口市  琼中黎族苗族自治县  伊春市  兴安盟  金昌市  \n",
       "武汉市        0.0        0.0    0.0  1.0        0.0  0.0  0.0  0.0  \n",
       "孝感市        0.0        0.0    0.0  0.0        0.0  0.0  0.0  0.0  \n",
       "黄冈市        0.0        0.0    0.0  0.0        0.0  0.0  0.0  0.0  \n",
       "荆州市        0.0        0.0    0.0  0.0        0.0  0.0  0.0  0.0  \n",
       "鄂州市        0.0        0.0    0.0  0.0        0.0  0.0  0.0  0.0  \n",
       "...        ...        ...    ...  ...        ...  ...  ...  ...  \n",
       "营口市        0.0        0.0    0.0  0.0        0.0  0.0  0.0  0.0  \n",
       "琼中黎族苗族自治县  0.0        0.0    0.0  0.0        0.0  0.0  0.0  0.0  \n",
       "伊春市        0.0        0.0    0.0  0.0        0.0  0.0  0.0  0.0  \n",
       "兴安盟        0.0        0.0    0.0  0.0        0.0  0.0  1.0  0.0  \n",
       "金昌市        0.0        0.0    0.0  0.0        0.0  0.0  0.0  0.0  \n",
       "\n",
       "[327 rows x 327 columns]"
      ]
     },
     "execution_count": 10,
     "metadata": {},
     "output_type": "execute_result"
    }
   ],
   "source": [
    "A_pltr =  pd.read_csv('plane_train_312.csv',index_col=[0])\n",
    "A_pltr.fillna(value=0,inplace=True)\n",
    "A_pltr"
   ]
  },
  {
   "cell_type": "code",
   "execution_count": 11,
   "metadata": {},
   "outputs": [],
   "source": [
    "for i in A_city.columns:\n",
    "    for j in A_city.index:\n",
    "        if i==j:\n",
    "            A_city[i][j]=1"
   ]
  },
  {
   "cell_type": "code",
   "execution_count": 12,
   "metadata": {},
   "outputs": [],
   "source": [
    "for i in A_plane.columns:\n",
    "    for j in A_plane.index:\n",
    "        if i==j:\n",
    "            A_plane[i][j]=1"
   ]
  },
  {
   "cell_type": "code",
   "execution_count": 13,
   "metadata": {},
   "outputs": [],
   "source": [
    "for i in A_train.columns:\n",
    "    for j in A_train.index:\n",
    "        if i==j:\n",
    "            A_train[i][j]=1"
   ]
  },
  {
   "cell_type": "code",
   "execution_count": 14,
   "metadata": {},
   "outputs": [],
   "source": [
    "for i in A_pltr.columns:\n",
    "    for j in A_pltr.index:\n",
    "        if i==j:\n",
    "            A_pltr[i][j]=1"
   ]
  },
  {
   "cell_type": "code",
   "execution_count": 15,
   "metadata": {},
   "outputs": [
    {
     "data": {
      "text/plain": [
       "DGLGraph(num_nodes=327, num_edges=5533,\n",
       "         ndata_schemes={}\n",
       "         edata_schemes={})"
      ]
     },
     "execution_count": 15,
     "metadata": {},
     "output_type": "execute_result"
    }
   ],
   "source": [
    "A_plane_array=np.array(A_plane)\n",
    "GA=dgl.DGLGraph()\n",
    "GA.add_nodes(327)\n",
    "for i in range(len(A_plane_array)):\n",
    "    for j in range(len(A_plane_array)):\n",
    "        if A_plane_array[i][j]==1:\n",
    "            GA.add_edge(i, j)\n",
    "        else:\n",
    "            pass\n",
    "GA"
   ]
  },
  {
   "cell_type": "code",
   "execution_count": 16,
   "metadata": {},
   "outputs": [
    {
     "data": {
      "text/plain": [
       "DGLGraph(num_nodes=327, num_edges=6633,\n",
       "         ndata_schemes={}\n",
       "         edata_schemes={})"
      ]
     },
     "execution_count": 16,
     "metadata": {},
     "output_type": "execute_result"
    }
   ],
   "source": [
    "A_train_array=np.array(A_train)\n",
    "GE = dgl.DGLGraph()\n",
    "GE.add_nodes(327) \n",
    "for i in range(len(A_train_array)):\n",
    "    for j in range(len(A_train_array)):\n",
    "        if A_train_array[i][j]==1:\n",
    "            GE.add_edge(i, j)\n",
    "        else:\n",
    "            pass\n",
    "GE"
   ]
  },
  {
   "cell_type": "code",
   "execution_count": 17,
   "metadata": {},
   "outputs": [
    {
     "data": {
      "text/plain": [
       "DGLGraph(num_nodes=327, num_edges=1909,\n",
       "         ndata_schemes={}\n",
       "         edata_schemes={})"
      ]
     },
     "execution_count": 17,
     "metadata": {},
     "output_type": "execute_result"
    }
   ],
   "source": [
    "A_city_array=np.array(A_city)\n",
    "G1 = dgl.DGLGraph()\n",
    "G1.add_nodes(327) \n",
    "for i in range(len(A_city_array)):\n",
    "    for j in range(len(A_city_array)):\n",
    "        if A_city_array[i][j]==1:\n",
    "            G1.add_edge(i, j)\n",
    "        else:\n",
    "            pass\n",
    "G1"
   ]
  },
  {
   "cell_type": "code",
   "execution_count": 18,
   "metadata": {},
   "outputs": [
    {
     "data": {
      "text/plain": [
       "DGLGraph(num_nodes=327, num_edges=10523,\n",
       "         ndata_schemes={}\n",
       "         edata_schemes={})"
      ]
     },
     "execution_count": 18,
     "metadata": {},
     "output_type": "execute_result"
    }
   ],
   "source": [
    "A_pltr_array=np.array(A_pltr)\n",
    "Gpltr = dgl.DGLGraph()\n",
    "Gpltr.add_nodes(327) \n",
    "for i in range(len(A_pltr_array)):\n",
    "    for j in range(len(A_pltr_array)):\n",
    "        if A_pltr_array[i][j]==1:\n",
    "            Gpltr.add_edge(i, j)\n",
    "        else:\n",
    "            pass\n",
    "Gpltr"
   ]
  },
  {
   "cell_type": "code",
   "execution_count": 19,
   "metadata": {
    "scrolled": false
   },
   "outputs": [],
   "source": [
    "df = pd.read_excel('ncov_confirmed_city_array_20200311.xlsx',index_col=[0])\n",
    "df.fillna(value=0,inplace=True)"
   ]
  },
  {
   "cell_type": "code",
   "execution_count": 20,
   "metadata": {},
   "outputs": [],
   "source": [
    "def gen_lab(dataset, start, end, experience, future):   \n",
    "    data = []\n",
    "    labels = []\n",
    "    data_list = []\n",
    "    labels_list = []\n",
    "\n",
    "    real_start = start + experience     \n",
    "\n",
    "    for i in range(real_start, end):    \n",
    "        data.append(dataset.iloc[i-experience:i])    \n",
    "        labels.append(dataset.iloc[i:i+future])    \n",
    "    \n",
    "    for j in range(len(data)):\n",
    "        data_tensor = th.Tensor(np.array(data[j].T))\n",
    "        data_list.append(data_tensor)\n",
    "    \n",
    "    for k in range(len(labels)):\n",
    "        labels_tensor = th.Tensor(np.array(labels[k].T))\n",
    "        labels_list.append(labels_tensor)\n",
    "    \n",
    "    return th.stack(data_list), th.stack(labels_list)"
   ]
  },
  {
   "cell_type": "code",
   "execution_count": 21,
   "metadata": {
    "scrolled": true
   },
   "outputs": [],
   "source": [
    "df_n = (df-df.min())/(df.max()-df.min())\n",
    "train_x,train_y = gen_lab(df_n,0,30,7,1)\n",
    "valid_x,valid_y = gen_lab(df_n,30,40,7,1)\n",
    "test_x,test_y = gen_lab(df_n,40,50,7,1)"
   ]
  },
  {
   "cell_type": "code",
   "execution_count": 22,
   "metadata": {},
   "outputs": [
    {
     "data": {
      "text/plain": [
       "(torch.Size([23, 327, 7]),\n",
       " torch.Size([23, 327, 1]),\n",
       " torch.Size([3, 327, 7]),\n",
       " torch.Size([3, 327, 7]))"
      ]
     },
     "execution_count": 22,
     "metadata": {},
     "output_type": "execute_result"
    }
   ],
   "source": [
    "train_x.shape,train_y.shape,valid_x.shape,test_x.shape"
   ]
  },
  {
   "cell_type": "code",
   "execution_count": 23,
   "metadata": {},
   "outputs": [],
   "source": [
    "def gcn_trainer(network,graph,input_data,label_data,training_times,\n",
    "                optimizer,criterion,loss_list,dur_list):\n",
    "\n",
    "    #loss_list = loss_list\n",
    "    #network = network\n",
    "\n",
    "    for epoch in range(training_times):\n",
    "        t0 = time.time()\n",
    "        network.train()\n",
    "        out = network(graph,input_data)          \n",
    "        \n",
    "        #criterion = criterion\n",
    "        loss = criterion(out,label_data)\n",
    "        \n",
    "        #optimizer = optimizer\n",
    "        optimizer.zero_grad()\n",
    "        loss.backward()\n",
    "        optimizer.step()\n",
    "\n",
    "        loss_list.append(loss)\n",
    "        dur_list.append(time.time() - t0)\n",
    "        \n",
    "        if (epoch+1) % 50 == 0:\n",
    "            #acc = evaluate(net, g, features, labels, test_mask)\n",
    "            print(\"Epoch {:04d} | MAE_Test_Loss {:.4f}\".format(epoch+1, loss.item())) "
   ]
  },
  {
   "cell_type": "code",
   "execution_count": 25,
   "metadata": {},
   "outputs": [
    {
     "name": "stdout",
     "output_type": "stream",
     "text": [
      "Batch1: Epoch 0050 | MAE_Test_Loss 0.1565\n",
      "Batch2: Epoch 0050 | MAE_Test_Loss 0.1107\n",
      "Batch3: Epoch 0050 | MAE_Test_Loss 0.1030\n",
      "Batch4: Epoch 0050 | MAE_Test_Loss 0.0915\n",
      "Batch5: Epoch 0050 | MAE_Test_Loss 0.0706\n",
      "Batch6: Epoch 0050 | MAE_Test_Loss 0.0627\n",
      "Batch7: Epoch 0050 | MAE_Test_Loss 0.0660\n",
      "Batch8: Epoch 0050 | MAE_Test_Loss 0.0604\n",
      "Batch9: Epoch 0050 | MAE_Test_Loss 0.0562\n",
      "Batch10: Epoch 0050 | MAE_Test_Loss 0.0559\n",
      "Batch11: Epoch 0050 | MAE_Test_Loss 0.0302\n",
      "Batch12: Epoch 0050 | MAE_Test_Loss 0.0464\n",
      "Batch13: Epoch 0050 | MAE_Test_Loss 0.0435\n",
      "Batch14: Epoch 0050 | MAE_Test_Loss 0.0368\n",
      "Batch15: Epoch 0050 | MAE_Test_Loss 0.0322\n",
      "Batch16: Epoch 0050 | MAE_Test_Loss 0.0283\n",
      "Batch17: Epoch 0050 | MAE_Test_Loss 0.0264\n",
      "Batch18: Epoch 0050 | MAE_Test_Loss 0.0269\n",
      "Batch19: Epoch 0050 | MAE_Test_Loss 0.0239\n",
      "Batch20: Epoch 0050 | MAE_Test_Loss 0.0159\n",
      "Batch21: Epoch 0050 | MAE_Test_Loss 0.0163\n",
      "Batch22: Epoch 0050 | MAE_Test_Loss 0.0128\n",
      "Batch23: Epoch 0050 | MAE_Test_Loss 0.0100\n"
     ]
    }
   ],
   "source": [
    "GPGCN=GCN(7,14,1);GPGCN_Loss_list=[];GPGCN_Loss_list.clear();GPGCN_MAE_Dur_list=[]\n",
    "for i in range(len(train_x)):\n",
    "    print('Batch{:d}: '.format(i+1),end='')\n",
    "    gcn_trainer(GPGCN,G1,train_x[i],train_y[i],50,th.optim.Adam(GPGCN.parameters(), lr=1e-3),nn.L1Loss(),GPGCN_Loss_list,GPGCN_MAE_Dur_list)"
   ]
  },
  {
   "cell_type": "code",
   "execution_count": 26,
   "metadata": {},
   "outputs": [
    {
     "name": "stdout",
     "output_type": "stream",
     "text": [
      "Batch1: Epoch 0050 | MAE_Test_Loss 0.0902\n",
      "Batch2: Epoch 0050 | MAE_Test_Loss 0.0648\n",
      "Batch3: Epoch 0050 | MAE_Test_Loss 0.0617\n",
      "Batch4: Epoch 0050 | MAE_Test_Loss 0.0544\n",
      "Batch5: Epoch 0050 | MAE_Test_Loss 0.0467\n",
      "Batch6: Epoch 0050 | MAE_Test_Loss 0.0556\n",
      "Batch7: Epoch 0050 | MAE_Test_Loss 0.0572\n",
      "Batch8: Epoch 0050 | MAE_Test_Loss 0.0489\n",
      "Batch9: Epoch 0050 | MAE_Test_Loss 0.0518\n",
      "Batch10: Epoch 0050 | MAE_Test_Loss 0.0500\n",
      "Batch11: Epoch 0050 | MAE_Test_Loss 0.0217\n",
      "Batch12: Epoch 0050 | MAE_Test_Loss 0.0423\n",
      "Batch13: Epoch 0050 | MAE_Test_Loss 0.0375\n",
      "Batch14: Epoch 0050 | MAE_Test_Loss 0.0319\n",
      "Batch15: Epoch 0050 | MAE_Test_Loss 0.0267\n",
      "Batch16: Epoch 0050 | MAE_Test_Loss 0.0241\n",
      "Batch17: Epoch 0050 | MAE_Test_Loss 0.0231\n",
      "Batch18: Epoch 0050 | MAE_Test_Loss 0.0223\n",
      "Batch19: Epoch 0050 | MAE_Test_Loss 0.0191\n",
      "Batch20: Epoch 0050 | MAE_Test_Loss 0.0133\n",
      "Batch21: Epoch 0050 | MAE_Test_Loss 0.0125\n",
      "Batch22: Epoch 0050 | MAE_Test_Loss 0.0120\n",
      "Batch23: Epoch 0050 | MAE_Test_Loss 0.0079\n"
     ]
    }
   ],
   "source": [
    "HSRGCN=GCN(7,14,1);HSRGCN_Loss_list=[];HSRGCN_Loss_list.clear();HSRGCN_MAE_Dur_list=[]\n",
    "for i in range(len(train_x)):\n",
    "    print('Batch{:d}: '.format(i+1),end='')\n",
    "    gcn_trainer(HSRGCN,GA,train_x[i],train_y[i],50,th.optim.Adam(HSRGCN.parameters(), lr=1e-3),nn.L1Loss(),HSRGCN_Loss_list,HSRGCN_MAE_Dur_list)"
   ]
  },
  {
   "cell_type": "code",
   "execution_count": 27,
   "metadata": {},
   "outputs": [
    {
     "name": "stdout",
     "output_type": "stream",
     "text": [
      "Batch1: Epoch 0050 | MAE_Test_Loss 0.1253\n",
      "Batch2: Epoch 0050 | MAE_Test_Loss 0.0839\n",
      "Batch3: Epoch 0050 | MAE_Test_Loss 0.0700\n",
      "Batch4: Epoch 0050 | MAE_Test_Loss 0.0635\n",
      "Batch5: Epoch 0050 | MAE_Test_Loss 0.0537\n",
      "Batch6: Epoch 0050 | MAE_Test_Loss 0.0559\n",
      "Batch7: Epoch 0050 | MAE_Test_Loss 0.0591\n",
      "Batch8: Epoch 0050 | MAE_Test_Loss 0.0513\n",
      "Batch9: Epoch 0050 | MAE_Test_Loss 0.0558\n",
      "Batch10: Epoch 0050 | MAE_Test_Loss 0.0514\n",
      "Batch11: Epoch 0050 | MAE_Test_Loss 0.0226\n",
      "Batch12: Epoch 0050 | MAE_Test_Loss 0.0438\n",
      "Batch13: Epoch 0050 | MAE_Test_Loss 0.0412\n",
      "Batch14: Epoch 0050 | MAE_Test_Loss 0.0339\n",
      "Batch15: Epoch 0050 | MAE_Test_Loss 0.0267\n",
      "Batch16: Epoch 0050 | MAE_Test_Loss 0.0259\n",
      "Batch17: Epoch 0050 | MAE_Test_Loss 0.0243\n",
      "Batch18: Epoch 0050 | MAE_Test_Loss 0.0232\n",
      "Batch19: Epoch 0050 | MAE_Test_Loss 0.0200\n",
      "Batch20: Epoch 0050 | MAE_Test_Loss 0.0145\n",
      "Batch21: Epoch 0050 | MAE_Test_Loss 0.0140\n",
      "Batch22: Epoch 0050 | MAE_Test_Loss 0.0116\n",
      "Batch23: Epoch 0050 | MAE_Test_Loss 0.0124\n"
     ]
    }
   ],
   "source": [
    "ALGCN=GCN(7,14,1);ALGCN_Loss_list=[];ALGCN_Loss_list.clear();ALGCN_MAE_Dur_list=[]\n",
    "for i in range(len(train_x)):\n",
    "    print('Batch{:d}: '.format(i+1),end='')\n",
    "    gcn_trainer(ALGCN,GE,train_x[i],train_y[i],50,th.optim.Adam(ALGCN.parameters(), lr=1e-3),nn.L1Loss(),ALGCN_Loss_list,ALGCN_MAE_Dur_list)"
   ]
  },
  {
   "cell_type": "code",
   "execution_count": 28,
   "metadata": {},
   "outputs": [
    {
     "name": "stdout",
     "output_type": "stream",
     "text": [
      "Batch1: Epoch 0050 | MAE_Test_Loss 0.0998\n",
      "Batch2: Epoch 0050 | MAE_Test_Loss 0.0684\n",
      "Batch3: Epoch 0050 | MAE_Test_Loss 0.0669\n",
      "Batch4: Epoch 0050 | MAE_Test_Loss 0.0603\n",
      "Batch5: Epoch 0050 | MAE_Test_Loss 0.0528\n",
      "Batch6: Epoch 0050 | MAE_Test_Loss 0.0574\n",
      "Batch7: Epoch 0050 | MAE_Test_Loss 0.0598\n",
      "Batch8: Epoch 0050 | MAE_Test_Loss 0.0526\n",
      "Batch9: Epoch 0050 | MAE_Test_Loss 0.0513\n",
      "Batch10: Epoch 0050 | MAE_Test_Loss 0.0513\n",
      "Batch11: Epoch 0050 | MAE_Test_Loss 0.0247\n",
      "Batch12: Epoch 0050 | MAE_Test_Loss 0.0401\n",
      "Batch13: Epoch 0050 | MAE_Test_Loss 0.0380\n",
      "Batch14: Epoch 0050 | MAE_Test_Loss 0.0321\n",
      "Batch15: Epoch 0050 | MAE_Test_Loss 0.0272\n",
      "Batch16: Epoch 0050 | MAE_Test_Loss 0.0261\n",
      "Batch17: Epoch 0050 | MAE_Test_Loss 0.0237\n",
      "Batch18: Epoch 0050 | MAE_Test_Loss 0.0242\n",
      "Batch19: Epoch 0050 | MAE_Test_Loss 0.0202\n",
      "Batch20: Epoch 0050 | MAE_Test_Loss 0.0147\n",
      "Batch21: Epoch 0050 | MAE_Test_Loss 0.0148\n",
      "Batch22: Epoch 0050 | MAE_Test_Loss 0.0114\n",
      "Batch23: Epoch 0050 | MAE_Test_Loss 0.0088\n"
     ]
    }
   ],
   "source": [
    "ALHSRGCN=GCN(7,14,1);ALHSRGCN_Loss_list=[];ALHSRGCN_Loss_list.clear();ALHSRGCN_MAE_Dur_list=[]\n",
    "for i in range(len(train_x)):\n",
    "    print('Batch{:d}: '.format(i+1),end='')\n",
    "    gcn_trainer(ALHSRGCN,Gpltr,train_x[i],train_y[i],50,th.optim.Adam(ALHSRGCN.parameters(), lr=1e-3),nn.L1Loss(),ALHSRGCN_Loss_list,ALHSRGCN_MAE_Dur_list)"
   ]
  },
  {
   "cell_type": "code",
   "execution_count": 29,
   "metadata": {},
   "outputs": [
    {
     "data": {
      "image/png": "[encoded data removed]",
      "text/plain": [
       "<Figure size 432x288 with 1 Axes>"
      ]
     },
     "metadata": {},
     "output_type": "display_data"
    }
   ],
   "source": [
    "plt.style.use('ggplot')\n",
    "plt.plot(GPGCN_Loss_list,label='GP GCN')\n",
    "plt.plot(HSRGCN_Loss_list,label='HSR GCN')\n",
    "plt.plot(ALGCN_Loss_list,label='AL GCN')\n",
    "plt.plot(ALHSRGCN_Loss_list,label='ALHSR GCN')\n",
    "plt.title('Changes of MAE during 1150 training process')\n",
    "plt.xlabel('Epoch')\n",
    "plt.ylabel('MAE Loss')\n",
    "plt.legend(loc=1)\n",
    "plt.show()"
   ]
  },
  {
   "cell_type": "code",
   "execution_count": 30,
   "metadata": {},
   "outputs": [],
   "source": [
    "GPGCN_During=np.sum(GPGCN_MAE_Dur_list)\n",
    "HSRGCN_During=np.sum(HSRGCN_MAE_Dur_list)\n",
    "ALGCN_During=np.sum(ALGCN_MAE_Dur_list)\n",
    "ALHSRGCN_During=np.sum(ALHSRGCN_MAE_Dur_list)"
   ]
  },
  {
   "cell_type": "code",
   "execution_count": 31,
   "metadata": {},
   "outputs": [
    {
     "data": {
      "text/plain": [
       "(1.8715715408325195, 2.057973623275757, 2.1094841957092285, 2.3319594860076904)"
      ]
     },
     "execution_count": 31,
     "metadata": {},
     "output_type": "execute_result"
    }
   ],
   "source": [
    "GPGCN_During,HSRGCN_During,ALGCN_During,ALHSRGCN_During"
   ]
  },
  {
   "cell_type": "code",
   "execution_count": 32,
   "metadata": {},
   "outputs": [],
   "source": [
    "def mean_losslist(tlist):\n",
    "    return np.sum(tlist)/len(tlist)"
   ]
  },
  {
   "cell_type": "code",
   "execution_count": 33,
   "metadata": {},
   "outputs": [
    {
     "data": {
      "text/plain": [
       "(tensor(0.0611, grad_fn=<DivBackward0>),\n",
       " tensor(0.0425, grad_fn=<DivBackward0>),\n",
       " tensor(0.0500, grad_fn=<DivBackward0>),\n",
       " tensor(0.0451, grad_fn=<DivBackward0>))"
      ]
     },
     "execution_count": 33,
     "metadata": {},
     "output_type": "execute_result"
    }
   ],
   "source": [
    "mean_losslist(GPGCN_Loss_list),mean_losslist(HSRGCN_Loss_list),mean_losslist(ALGCN_Loss_list),mean_losslist(ALHSRGCN_Loss_list)"
   ]
  },
  {
   "cell_type": "code",
   "execution_count": 34,
   "metadata": {},
   "outputs": [
    {
     "data": {
      "image/png": "[encoded data removed]",
      "text/plain": [
       "<Figure size 720x720 with 4 Axes>"
      ]
     },
     "metadata": {},
     "output_type": "display_data"
    }
   ],
   "source": [
    "plt.figure(figsize=(10,10))\n",
    "plt.figure(1)\n",
    "ax1 = plt.subplot(411)\n",
    "plt.plot(GPGCN_Loss_list,color='r',linestyle = \"-\",label='Geographical Proximity')\n",
    "plt.legend(loc=1)\n",
    "plt.ylabel('MAE Loss')\n",
    "ax2 = plt.subplot(412)\n",
    "plt.plot(HSRGCN_Loss_list,color='g',linestyle = \"-\",label='HSR Construction')\n",
    "plt.legend(loc=1)\n",
    "plt.ylabel('MAE Loss')\n",
    "ax3 = plt.subplot(413)\n",
    "plt.plot(ALGCN_Loss_list,color='b',linestyle = \"-\",label='Airline Construction')\n",
    "plt.legend(loc=1)\n",
    "plt.ylabel('MAE Loss')\n",
    "ax4= plt.subplot(414)\n",
    "plt.plot(ALHSRGCN_Loss_list,color='y',linestyle = \"-\",label='HSR and Airline Construction')\n",
    "plt.legend(loc=1)\n",
    "plt.ylabel('MAE Loss')\n",
    "plt.xlabel('Epoch')\n",
    "plt.show()"
   ]
  },
  {
   "cell_type": "code",
   "execution_count": 35,
   "metadata": {},
   "outputs": [],
   "source": [
    "def gcn_valid(network,test_input,test_label,criterion,loss_list):\n",
    "    for i in range(len(test_input)):\n",
    "        loss = criterion(network(G1,test_input[i]),test_label[i])\n",
    "        loss_list.append(loss)"
   ]
  },
  {
   "cell_type": "code",
   "execution_count": 37,
   "metadata": {},
   "outputs": [],
   "source": [
    "GPGCN_valid_loss_list=[];GPGCN_valid_loss_list.clear()\n",
    "gcn_valid(GPGCN,valid_x,valid_y,nn.L1Loss(),GPGCN_valid_loss_list)"
   ]
  },
  {
   "cell_type": "code",
   "execution_count": 39,
   "metadata": {},
   "outputs": [],
   "source": [
    "HSRGCN_valid_loss_list=[];HSRGCN_valid_loss_list.clear()\n",
    "gcn_valid(HSRGCN,valid_x,valid_y,nn.L1Loss(),HSRGCN_valid_loss_list)"
   ]
  },
  {
   "cell_type": "code",
   "execution_count": 40,
   "metadata": {},
   "outputs": [],
   "source": [
    "ALGCN_valid_loss_list=[];ALGCN_valid_loss_list.clear()\n",
    "gcn_valid(ALGCN,valid_x,valid_y,nn.L1Loss(),ALGCN_valid_loss_list)"
   ]
  },
  {
   "cell_type": "code",
   "execution_count": 41,
   "metadata": {},
   "outputs": [],
   "source": [
    "ALHSRGCN_valid_loss_list=[];ALHSRGCN_valid_loss_list.clear()\n",
    "gcn_valid(ALHSRGCN,valid_x,valid_y,nn.L1Loss(),ALHSRGCN_valid_loss_list)"
   ]
  },
  {
   "cell_type": "code",
   "execution_count": 43,
   "metadata": {},
   "outputs": [
    {
     "data": {
      "text/plain": [
       "<matplotlib.legend.Legend at 0x7fbd409bcb90>"
      ]
     },
     "execution_count": 43,
     "metadata": {},
     "output_type": "execute_result"
    },
    {
     "data": {
      "image/png": "[encoded data removed]",
      "text/plain": [
       "<Figure size 432x288 with 1 Axes>"
      ]
     },
     "metadata": {},
     "output_type": "display_data"
    }
   ],
   "source": [
    "plt.plot(GPGCN_valid_loss_list,label='GPGCN')\n",
    "plt.plot(HSRGCN_valid_loss_list,label='HSRGCN')\n",
    "plt.plot(ALGCN_valid_loss_list,label='ALGCN')\n",
    "plt.plot(ALHSRGCN_valid_loss_list,label='ALHSRGCN')\n",
    "plt.xlabel('Epoch')\n",
    "plt.ylabel('MAE Loss')\n",
    "plt.title('MAE on valid after 1150 trainings')\n",
    "plt.legend(loc=1)"
   ]
  },
  {
   "cell_type": "code",
   "execution_count": 44,
   "metadata": {},
   "outputs": [],
   "source": [
    "def gcn_tester(network,test_input,test_label,criterion,loss_list):\n",
    "    for i in range(len(test_input)):\n",
    "        loss = criterion(network(G1,test_input[i]),test_label[i])\n",
    "        loss_list.append(loss)"
   ]
  },
  {
   "cell_type": "code",
   "execution_count": 46,
   "metadata": {},
   "outputs": [],
   "source": [
    "GPGCN_test_loss_list=[];GPGCN_test_loss_list.clear()\n",
    "gcn_tester(GPGCN,test_x,test_y,nn.L1Loss(),GPGCN_test_loss_list)"
   ]
  },
  {
   "cell_type": "code",
   "execution_count": 47,
   "metadata": {},
   "outputs": [],
   "source": [
    "HSRGCN_test_loss_list=[];HSRGCN_test_loss_list.clear()\n",
    "gcn_tester(HSRGCN,test_x,test_y,nn.L1Loss(),HSRGCN_test_loss_list)"
   ]
  },
  {
   "cell_type": "code",
   "execution_count": 48,
   "metadata": {},
   "outputs": [],
   "source": [
    "ALGCN_test_loss_list=[];ALGCN_test_loss_list.clear()\n",
    "gcn_tester(ALGCN,test_x,test_y,nn.L1Loss(),ALGCN_test_loss_list)"
   ]
  },
  {
   "cell_type": "code",
   "execution_count": 49,
   "metadata": {},
   "outputs": [],
   "source": [
    "ALHSRGCN_test_loss_list=[];ALHSRGCN_test_loss_list.clear()\n",
    "gcn_tester(ALHSRGCN,test_x,test_y,nn.L1Loss(),ALHSRGCN_test_loss_list)"
   ]
  },
  {
   "cell_type": "code",
   "execution_count": 51,
   "metadata": {},
   "outputs": [
    {
     "data": {
      "text/plain": [
       "<matplotlib.legend.Legend at 0x7fbd734ce8d0>"
      ]
     },
     "execution_count": 51,
     "metadata": {},
     "output_type": "execute_result"
    },
    {
     "data": {
      "image/png": "[encoded data removed]",
      "text/plain": [
       "<Figure size 432x288 with 1 Axes>"
      ]
     },
     "metadata": {},
     "output_type": "display_data"
    }
   ],
   "source": [
    "plt.plot(GPGCN_test_loss_list,label='GPGCN')\n",
    "plt.plot(HSRGCN_test_loss_list,label='HSRGCN')\n",
    "plt.plot(ALGCN_test_loss_list,label='ALGCN')\n",
    "plt.plot(ALHSRGCN_test_loss_list,label='ALHSRGCN')\n",
    "plt.xlabel('Epoch')\n",
    "plt.ylabel('MAE Loss')\n",
    "plt.title('MAE on test after 1150 trainings')\n",
    "plt.legend(loc=1)"
   ]
  },
  {
   "cell_type": "code",
   "execution_count": 52,
   "metadata": {},
   "outputs": [
    {
     "data": {
      "text/plain": [
       "<matplotlib.legend.Legend at 0x7fbd611a2a90>"
      ]
     },
     "execution_count": 52,
     "metadata": {},
     "output_type": "execute_result"
    },
    {
     "data": {
      "image/png": "[encoded data removed]",
      "text/plain": [
       "<Figure size 720x720 with 4 Axes>"
      ]
     },
     "metadata": {},
     "output_type": "display_data"
    }
   ],
   "source": [
    "plt.figure(figsize=(10,10))\n",
    "plt.figure(1)\n",
    "\n",
    "ax1 = plt.subplot(411)\n",
    "plt.plot(GPGCN_test_loss_list,color=\"r\",linestyle = \"-\",label='Geographical Proximity')\n",
    "plt.ylabel('MAE Loss')\n",
    "plt.legend()\n",
    "\n",
    "ax2 = plt.subplot(412)\n",
    "plt.plot(HSRGCN_test_loss_list, color=\"g\",linestyle = \"-\",label='HSR Construction')\n",
    "plt.ylabel('MAE Loss')\n",
    "plt.legend()\n",
    "\n",
    "ax3 = plt.subplot(413)\n",
    "plt.plot(ALGCN_test_loss_list,color=\"b\",linestyle = \"-\",label='Airline Construction')\n",
    "plt.ylabel('MAE Loss')\n",
    "plt.legend()\n",
    "\n",
    "ax4 = plt.subplot(414)\n",
    "plt.plot(ALHSRGCN_test_loss_list,color=\"y\",linestyle = \"-\",label='HSR and Airline Construction')\n",
    "plt.xlabel('Epoch')\n",
    "plt.ylabel('MAE Loss')\n",
    "plt.legend()"
   ]
  },
  {
   "cell_type": "code",
   "execution_count": 53,
   "metadata": {},
   "outputs": [
    {
     "data": {
      "text/plain": [
       "(tensor(0.0047, grad_fn=<DivBackward0>),\n",
       " tensor(0.0091, grad_fn=<DivBackward0>))"
      ]
     },
     "execution_count": 53,
     "metadata": {},
     "output_type": "execute_result"
    }
   ],
   "source": [
    "mean_losslist(GPGCN_test_loss_list),mean_losslist(HSRGCN_test_loss_list)"
   ]
  },
  {
   "cell_type": "code",
   "execution_count": 54,
   "metadata": {},
   "outputs": [
    {
     "data": {
      "text/plain": [
       "(tensor(0.0087, grad_fn=<DivBackward0>),\n",
       " tensor(0.0074, grad_fn=<DivBackward0>))"
      ]
     },
     "execution_count": 54,
     "metadata": {},
     "output_type": "execute_result"
    }
   ],
   "source": [
    "mean_losslist(ALGCN_test_loss_list),mean_losslist(ALHSRGCN_test_loss_list)"
   ]
  },
  {
   "cell_type": "markdown",
   "metadata": {},
   "source": [
    "## RNN"
   ]
  },
  {
   "cell_type": "code",
   "execution_count": 55,
   "metadata": {},
   "outputs": [],
   "source": [
    "class RNNs(nn.Module):\n",
    "    def __init__(self, input_dim, hidden_dim, out_dim, layers, dropout=0):\n",
    "        super(RNNs,self).__init__()\n",
    "\n",
    "        self.rnn = nn.RNN(input_size=input_dim, hidden_size=hidden_dim, num_layers=layers, dropout=dropout)\n",
    "        self.linear = nn.Linear(hidden_dim, out_dim)\n",
    "\n",
    "\n",
    "    def forward(self, x):\n",
    "        out, hidden = self.rnn(x)\n",
    "        channel_size,city_size,period_size = out.shape\n",
    "        out = out.view(channel_size*city_size,period_size)\n",
    "        out = self.linear(out)\n",
    "        out = out.view(channel_size,city_size,-1)\n",
    "        return out"
   ]
  },
  {
   "cell_type": "code",
   "execution_count": 56,
   "metadata": {},
   "outputs": [],
   "source": [
    "def rnn_trainer(network,input_data,label_data,training_times,\n",
    "                optimizer,criterion,loss_list,dur_list):\n",
    "\n",
    "    #loss_list = loss_list\n",
    "    #network = network\n",
    "\n",
    "    for epoch in range(training_times):\n",
    "        t0 = time.time()\n",
    "        network.train()\n",
    "        out = network(input_data)          \n",
    "        \n",
    "        #criterion = criterion\n",
    "        loss = criterion(out,label_data)\n",
    "        \n",
    "        #optimizer = optimizer\n",
    "        optimizer.zero_grad()\n",
    "        loss.backward()\n",
    "        optimizer.step()\n",
    "\n",
    "        loss_list.append(loss)\n",
    "        dur_list.append(time.time() - t0)\n",
    "        \n",
    "        if (epoch+1) % 100 == 0:\n",
    "            #acc = evaluate(net, g, features, labels, test_mask)\n",
    "            print(\"Epoch {:04d} | MAE_Loss {:.4f}\".format(epoch+1, loss.item())) "
   ]
  },
  {
   "cell_type": "code",
   "execution_count": 58,
   "metadata": {},
   "outputs": [
    {
     "name": "stdout",
     "output_type": "stream",
     "text": [
      "Epoch 0100 | MAE_Loss 0.0791\n",
      "Epoch 0200 | MAE_Loss 0.0622\n",
      "Epoch 0300 | MAE_Loss 0.0521\n",
      "Epoch 0400 | MAE_Loss 0.0467\n",
      "Epoch 0500 | MAE_Loss 0.0437\n",
      "Epoch 0600 | MAE_Loss 0.0409\n",
      "Epoch 0700 | MAE_Loss 0.0392\n",
      "Epoch 0800 | MAE_Loss 0.0372\n",
      "Epoch 0900 | MAE_Loss 0.0361\n",
      "Epoch 1000 | MAE_Loss 0.0355\n",
      "Epoch 1100 | MAE_Loss 0.0352\n"
     ]
    }
   ],
   "source": [
    "RNN_Model = RNNs(7, 14, 1,2);RNN_Loss_list=[];RNN_Loss_list.clear();RNN_Dur_list=[]\n",
    "rnn_trainer(RNN_Model,train_x,train_y,1150,th.optim.Adam(RNN_Model.parameters(), lr=1e-3),nn.L1Loss(),RNN_Loss_list,RNN_Dur_list)"
   ]
  },
  {
   "cell_type": "code",
   "execution_count": 60,
   "metadata": {},
   "outputs": [
    {
     "name": "stderr",
     "output_type": "stream",
     "text": [
      "No handles with labels found to put in legend.\n"
     ]
    },
    {
     "data": {
      "text/plain": [
       "<matplotlib.legend.Legend at 0x7fbd508967d0>"
      ]
     },
     "execution_count": 60,
     "metadata": {},
     "output_type": "execute_result"
    },
    {
     "data": {
      "image/png": "[encoded data removed]",
      "text/plain": [
       "<Figure size 432x288 with 1 Axes>"
      ]
     },
     "metadata": {},
     "output_type": "display_data"
    }
   ],
   "source": [
    "plt.style.use('ggplot')\n",
    "plt.plot(RNN_Loss_list)\n",
    "plt.xlabel('Epoch')\n",
    "plt.ylabel('MAE Loss')\n",
    "plt.title('RNN Train Loss')\n",
    "plt.legend()"
   ]
  },
  {
   "cell_type": "code",
   "execution_count": 59,
   "metadata": {},
   "outputs": [
    {
     "data": {
      "text/plain": [
       "tensor(0.0605, grad_fn=<DivBackward0>)"
      ]
     },
     "execution_count": 59,
     "metadata": {},
     "output_type": "execute_result"
    }
   ],
   "source": [
    "mean_losslist(RNN_Loss_list)"
   ]
  },
  {
   "cell_type": "code",
   "execution_count": 61,
   "metadata": {},
   "outputs": [],
   "source": [
    "def rnn_tester(network,test_input,test_label,criterion,loss_list):\n",
    "    loss = criterion(network(test_input),test_label)\n",
    "    loss_list.append(loss)"
   ]
  },
  {
   "cell_type": "code",
   "execution_count": 63,
   "metadata": {},
   "outputs": [],
   "source": [
    "RNN_test_loss_list=[];RNN_test_loss_list.clear()\n",
    "rnn_tester(RNN_Model,test_x,test_y,nn.L1Loss(),RNN_test_loss_list)"
   ]
  },
  {
   "cell_type": "code",
   "execution_count": 64,
   "metadata": {},
   "outputs": [
    {
     "data": {
      "text/plain": [
       "tensor(0.1791, grad_fn=<DivBackward0>)"
      ]
     },
     "execution_count": 64,
     "metadata": {},
     "output_type": "execute_result"
    }
   ],
   "source": [
    "mean_losslist(RNN_test_loss_list)"
   ]
  },
  {
   "cell_type": "markdown",
   "metadata": {},
   "source": [
    "## LSTM"
   ]
  },
  {
   "cell_type": "code",
   "execution_count": 65,
   "metadata": {},
   "outputs": [],
   "source": [
    "class LSTMs(nn.Module):\n",
    "    def __init__(self, input_dim, hidden_dim, out_dim, layers, dropout=0):\n",
    "        super(LSTMs,self).__init__()\n",
    "\n",
    "        self.lstm = nn.LSTM(input_size=input_dim, hidden_size=hidden_dim, num_layers=layers, dropout=dropout)\n",
    "        self.linear = nn.Linear(hidden_dim, out_dim)\n",
    "\n",
    "\n",
    "    def forward(self, x):\n",
    "        out, hidden = self.lstm(x)\n",
    "        channel_size,city_size,period_size = out.shape\n",
    "        out = out.view(channel_size*city_size,period_size)\n",
    "        out = self.linear(out)\n",
    "        out = out.view(channel_size,city_size,-1)\n",
    "        return out"
   ]
  },
  {
   "cell_type": "code",
   "execution_count": 66,
   "metadata": {},
   "outputs": [],
   "source": [
    "LSTM_Model=LSTMs(7,14,1,2)"
   ]
  },
  {
   "cell_type": "code",
   "execution_count": 67,
   "metadata": {},
   "outputs": [],
   "source": [
    "def lstm_trainer(network,input_data,label_data,training_times,\n",
    "                optimizer,criterion,loss_list,dur_list):\n",
    "\n",
    "    #loss_list = loss_list\n",
    "    #network = network\n",
    "\n",
    "    for epoch in range(training_times):\n",
    "        t0 = time.time()\n",
    "        network.train()\n",
    "        out = network(input_data)          \n",
    "        \n",
    "        #criterion = criterion\n",
    "        loss = criterion(out,label_data)\n",
    "        \n",
    "        #optimizer = optimizer\n",
    "        optimizer.zero_grad()\n",
    "        loss.backward()\n",
    "        optimizer.step()\n",
    "\n",
    "        loss_list.append(loss)\n",
    "        dur_list.append(time.time() - t0)\n",
    "        \n",
    "        if (epoch+1) % 100 == 0:\n",
    "            #acc = evaluate(net, g, features, labels, test_mask)\n",
    "            print(\"Epoch {:04d} | MAE_Loss {:.4f}\".format(epoch+1, loss.item())) "
   ]
  },
  {
   "cell_type": "code",
   "execution_count": 69,
   "metadata": {},
   "outputs": [
    {
     "name": "stdout",
     "output_type": "stream",
     "text": [
      "Epoch 0100 | MAE_Loss 0.1014\n",
      "Epoch 0200 | MAE_Loss 0.0917\n",
      "Epoch 0300 | MAE_Loss 0.0783\n",
      "Epoch 0400 | MAE_Loss 0.0669\n",
      "Epoch 0500 | MAE_Loss 0.0592\n",
      "Epoch 0600 | MAE_Loss 0.0519\n",
      "Epoch 0700 | MAE_Loss 0.0456\n",
      "Epoch 0800 | MAE_Loss 0.0414\n",
      "Epoch 0900 | MAE_Loss 0.0382\n",
      "Epoch 1000 | MAE_Loss 0.0367\n",
      "Epoch 1100 | MAE_Loss 0.0357\n"
     ]
    }
   ],
   "source": [
    "LSTM_Loss_list=[];LSTM_Loss_list.clear();LSTM_Dur_list=[]\n",
    "lstm_trainer(LSTM_Model,train_x,train_y,1150,th.optim.Adam(LSTM_Model.parameters(), lr=1e-3),nn.L1Loss(),LSTM_Loss_list,LSTM_Dur_list)"
   ]
  },
  {
   "cell_type": "code",
   "execution_count": 70,
   "metadata": {},
   "outputs": [
    {
     "name": "stderr",
     "output_type": "stream",
     "text": [
      "No handles with labels found to put in legend.\n"
     ]
    },
    {
     "data": {
      "text/plain": [
       "<matplotlib.legend.Legend at 0x7fbd005d6b10>"
      ]
     },
     "execution_count": 70,
     "metadata": {},
     "output_type": "execute_result"
    },
    {
     "data": {
      "image/png": "[encoded data removed]",
      "text/plain": [
       "<Figure size 432x288 with 1 Axes>"
      ]
     },
     "metadata": {},
     "output_type": "display_data"
    }
   ],
   "source": [
    "plt.style.use('ggplot')\n",
    "plt.plot(LSTM_Loss_list)\n",
    "plt.xlabel('Epoch')\n",
    "plt.ylabel('MAE Loss')\n",
    "plt.title('LSTM Train Loss')\n",
    "plt.legend()"
   ]
  },
  {
   "cell_type": "code",
   "execution_count": 71,
   "metadata": {},
   "outputs": [
    {
     "data": {
      "text/plain": [
       "tensor(0.0798, grad_fn=<DivBackward0>)"
      ]
     },
     "execution_count": 71,
     "metadata": {},
     "output_type": "execute_result"
    }
   ],
   "source": [
    "mean_losslist(LSTM_Loss_list)"
   ]
  },
  {
   "cell_type": "code",
   "execution_count": 72,
   "metadata": {},
   "outputs": [],
   "source": [
    "def lstm_tester(network,test_input,test_label,criterion,loss_list):\n",
    "    loss = criterion(network(test_input),test_label)\n",
    "    loss_list.append(loss)"
   ]
  },
  {
   "cell_type": "code",
   "execution_count": 74,
   "metadata": {},
   "outputs": [],
   "source": [
    "LSTM_test_loss_list=[];LSTM_test_loss_list.clear()\n",
    "lstm_tester(LSTM_Model,test_x,test_y,nn.L1Loss(),LSTM_test_loss_list)"
   ]
  },
  {
   "cell_type": "code",
   "execution_count": 75,
   "metadata": {},
   "outputs": [
    {
     "data": {
      "text/plain": [
       "tensor(0.0866, grad_fn=<DivBackward0>)"
      ]
     },
     "execution_count": 75,
     "metadata": {},
     "output_type": "execute_result"
    }
   ],
   "source": [
    "mean_losslist(LSTM_test_loss_list)"
   ]
  },
  {
   "cell_type": "markdown",
   "metadata": {},
   "source": [
    "## GRU"
   ]
  },
  {
   "cell_type": "code",
   "execution_count": 76,
   "metadata": {},
   "outputs": [],
   "source": [
    "class GRUs(nn.Module):\n",
    "    def __init__(self, input_dim, hidden_dim, out_dim, layers, dropout=0):\n",
    "        super(GRUs,self).__init__()\n",
    "\n",
    "        self.lstm = nn.GRU(input_size=input_dim, hidden_size=hidden_dim, num_layers=layers, dropout=dropout)\n",
    "        self.linear = nn.Linear(hidden_dim, out_dim)\n",
    "\n",
    "\n",
    "    def forward(self, x):\n",
    "        out, hidden = self.lstm(x)\n",
    "        channel_size,city_size,period_size = out.shape\n",
    "        out = out.view(channel_size*city_size,period_size)\n",
    "        out = self.linear(out)\n",
    "        out = out.view(channel_size,city_size,-1)\n",
    "        return out"
   ]
  },
  {
   "cell_type": "code",
   "execution_count": 77,
   "metadata": {},
   "outputs": [],
   "source": [
    "GRU_Model=GRUs(7,14,1,2)"
   ]
  },
  {
   "cell_type": "code",
   "execution_count": 78,
   "metadata": {},
   "outputs": [],
   "source": [
    "def gru_trainer(network,input_data,label_data,training_times,\n",
    "                optimizer,criterion,loss_list,dur_list):\n",
    "\n",
    "    #loss_list = loss_list\n",
    "    #network = network\n",
    "\n",
    "    for epoch in range(training_times):\n",
    "        t0 = time.time()\n",
    "        network.train()\n",
    "        out = network(input_data)          \n",
    "        \n",
    "        #criterion = criterion\n",
    "        loss = criterion(out,label_data)\n",
    "        \n",
    "        #optimizer = optimizer\n",
    "        optimizer.zero_grad()\n",
    "        loss.backward()\n",
    "        optimizer.step()\n",
    "\n",
    "        loss_list.append(loss)\n",
    "        dur_list.append(time.time() - t0)\n",
    "        \n",
    "        if (epoch+1) % 100 == 0:\n",
    "            #acc = evaluate(net, g, features, labels, test_mask)\n",
    "            print(\"Epoch {:04d} | MAE_Loss {:.4f}\".format(epoch+1, loss.item())) "
   ]
  },
  {
   "cell_type": "code",
   "execution_count": 80,
   "metadata": {},
   "outputs": [
    {
     "name": "stdout",
     "output_type": "stream",
     "text": [
      "Epoch 0100 | MAE_Loss 0.0858\n",
      "Epoch 0200 | MAE_Loss 0.0702\n",
      "Epoch 0300 | MAE_Loss 0.0590\n",
      "Epoch 0400 | MAE_Loss 0.0500\n",
      "Epoch 0500 | MAE_Loss 0.0440\n",
      "Epoch 0600 | MAE_Loss 0.0406\n",
      "Epoch 0700 | MAE_Loss 0.0384\n",
      "Epoch 0800 | MAE_Loss 0.0368\n",
      "Epoch 0900 | MAE_Loss 0.0358\n",
      "Epoch 1000 | MAE_Loss 0.0351\n",
      "Epoch 1100 | MAE_Loss 0.0348\n"
     ]
    }
   ],
   "source": [
    "GRU_Loss_list=[];GRU_Loss_list.clear();GRU_Dur_list=[]\n",
    "gru_trainer(GRU_Model,train_x,train_y,1150,th.optim.Adam(GRU_Model.parameters(), lr=1e-3),nn.L1Loss(),GRU_Loss_list,GRU_Dur_list)"
   ]
  },
  {
   "cell_type": "code",
   "execution_count": 81,
   "metadata": {},
   "outputs": [
    {
     "name": "stderr",
     "output_type": "stream",
     "text": [
      "No handles with labels found to put in legend.\n"
     ]
    },
    {
     "data": {
      "text/plain": [
       "<matplotlib.legend.Legend at 0x7fbd50a7d7d0>"
      ]
     },
     "execution_count": 81,
     "metadata": {},
     "output_type": "execute_result"
    },
    {
     "data": {
      "image/png": "[encoded data removed]",
      "text/plain": [
       "<Figure size 432x288 with 1 Axes>"
      ]
     },
     "metadata": {},
     "output_type": "display_data"
    }
   ],
   "source": [
    "plt.style.use('ggplot')\n",
    "plt.plot(GRU_Loss_list)\n",
    "plt.xlabel('Epoch')\n",
    "plt.ylabel('MAE Loss')\n",
    "plt.title('GRU Train Loss')\n",
    "plt.legend()"
   ]
  },
  {
   "cell_type": "code",
   "execution_count": 82,
   "metadata": {},
   "outputs": [
    {
     "data": {
      "text/plain": [
       "tensor(0.0564, grad_fn=<DivBackward0>)"
      ]
     },
     "execution_count": 82,
     "metadata": {},
     "output_type": "execute_result"
    }
   ],
   "source": [
    "mean_losslist(GRU_Loss_list)"
   ]
  },
  {
   "cell_type": "code",
   "execution_count": 83,
   "metadata": {},
   "outputs": [],
   "source": [
    "def gru_tester(network,test_input,test_label,criterion,loss_list):\n",
    "    loss = criterion(network(test_input),test_label)\n",
    "    loss_list.append(loss)"
   ]
  },
  {
   "cell_type": "code",
   "execution_count": 86,
   "metadata": {},
   "outputs": [],
   "source": [
    "GRU_test_loss_list=[];GRU_test_loss_list.clear()\n",
    "gru_tester(GRU_Model,test_x,test_y,nn.L1Loss(),GRU_test_loss_list)"
   ]
  },
  {
   "cell_type": "code",
   "execution_count": 87,
   "metadata": {},
   "outputs": [
    {
     "data": {
      "text/plain": [
       "tensor(0.0898, grad_fn=<DivBackward0>)"
      ]
     },
     "execution_count": 87,
     "metadata": {},
     "output_type": "execute_result"
    }
   ],
   "source": [
    "mean_losslist(GRU_test_loss_list)"
   ]
  },
  {
   "cell_type": "markdown",
   "metadata": {},
   "source": [
    "## 综合分析"
   ]
  },
  {
   "cell_type": "code",
   "execution_count": 88,
   "metadata": {},
   "outputs": [
    {
     "data": {
      "image/png": "[encoded data removed]",
      "text/plain": [
       "<Figure size 432x288 with 1 Axes>"
      ]
     },
     "metadata": {},
     "output_type": "display_data"
    }
   ],
   "source": [
    "plt.style.use('ggplot')\n",
    "plt.plot(GPGCN_Loss_list[50:],label='GPGCN')\n",
    "plt.plot(HSRGCN_Loss_list[50:],label='HSRGCN')\n",
    "plt.plot(ALGCN_Loss_list[50:],label='ALGCN')\n",
    "plt.plot(ALHSRGCN_Loss_list[50:],label='ALHSRGCN')\n",
    "plt.plot(RNN_Loss_list[50:],label='RNN')\n",
    "plt.plot(GRU_Loss_list[50:],label='GRU')\n",
    "plt.plot(LSTM_Loss_list[50:],label='LSTM')\n",
    "\n",
    "plt.title('Changes of MAE (record after the 50th traning)')\n",
    "plt.xlabel('Epoch')\n",
    "plt.ylabel('MAE Loss')\n",
    "plt.legend(loc=1)\n",
    "plt.show()"
   ]
  },
  {
   "cell_type": "code",
   "execution_count": 89,
   "metadata": {},
   "outputs": [
    {
     "data": {
      "text/plain": [
       "([tensor(0.0057, grad_fn=<L1LossBackward>),\n",
       "  tensor(0.0041, grad_fn=<L1LossBackward>),\n",
       "  tensor(0.0044, grad_fn=<L1LossBackward>)],\n",
       " [tensor(0.0866, grad_fn=<L1LossBackward>),\n",
       "  tensor(0.0866, grad_fn=<L1LossBackward>),\n",
       "  tensor(0.0866, grad_fn=<L1LossBackward>)])"
      ]
     },
     "execution_count": 89,
     "metadata": {},
     "output_type": "execute_result"
    }
   ],
   "source": [
    "GPGCN_test_loss_list"
   ]
  },
  {
   "cell_type": "code",
   "execution_count": 90,
   "metadata": {},
   "outputs": [
    {
     "data": {
      "text/plain": [
       "<matplotlib.legend.Legend at 0x7fbd40f12a10>"
      ]
     },
     "execution_count": 90,
     "metadata": {},
     "output_type": "execute_result"
    },
    {
     "data": {
      "image/png": "[encoded data removed]",
      "text/plain": [
       "<Figure size 432x288 with 1 Axes>"
      ]
     },
     "metadata": {},
     "output_type": "display_data"
    }
   ],
   "source": [
    "plt.plot(GPGCN_test_loss_list,label='GPGCN')\n",
    "plt.plot(HSRGCN_test_loss_list,label='HSRGCN')\n",
    "plt.plot(ALGCN_test_loss_list,label='ALGCN')\n",
    "plt.plot(ALHSRGCN_test_loss_list,label='ALHSRGCN')\n",
    "plt.plot(RNN_test_loss_list,label='RNN')\n",
    "plt.plot(GRU_test_loss_list,label='GRU')\n",
    "plt.plot(LSTM_test_loss_list,label='LSTM')\n",
    "\n",
    "plt.xlabel('Epoch')\n",
    "plt.ylabel('MAE Loss')\n",
    "#plt.ylim(0.000,0.4)\n",
    "plt.title('MAE on Test Set after 1150 trainings')\n",
    "plt.legend()"
   ]
  },
  {
   "cell_type": "code",
   "execution_count": 91,
   "metadata": {},
   "outputs": [
    {
     "data": {
      "text/plain": [
       "(9.129839658737183, 47.28683114051819, 33.55726408958435)"
      ]
     },
     "execution_count": 91,
     "metadata": {},
     "output_type": "execute_result"
    }
   ],
   "source": [
    "RNN_During,LSTM_During,GRU_During=np.sum(RNN_Dur_list),np.sum(LSTM_Dur_list),np.sum(GRU_Dur_list)\n",
    "RNN_During,LSTM_During,GRU_During"
   ]
  },
  {
   "cell_type": "code",
   "execution_count": 92,
   "metadata": {},
   "outputs": [],
   "source": [
    "MAE_LIST=[mean_losslist(GPGCN_test_loss_list).item(),\n",
    " mean_losslist(HSRGCN_test_loss_list).item(),\n",
    " mean_losslist(ALGCN_test_loss_list).item(),\n",
    " mean_losslist(ALHSRGCN_test_loss_list).item(),\n",
    "           mean_losslist(RNN_test_loss_list).item(),\n",
    "          mean_losslist(GRU_test_loss_list).item(),\n",
    "           mean_losslist(LSTM_test_loss_list).item()]\n",
    "DUR_LIST=[GPGCN_During,HSRGCN_During,ALGCN_During,ALHSRGCN_During,RNN_During,GRU_During,LSTM_During]\n",
    "NAME_LIST=['GP GCN','HSR GCN',\"AL GCN\",\"ALHSR GCN\",'RNN','GRU','LSTM']"
   ]
  },
  {
   "cell_type": "code",
   "execution_count": 93,
   "metadata": {},
   "outputs": [
    {
     "data": {
      "text/plain": [
       "(7, 7, 7)"
      ]
     },
     "execution_count": 93,
     "metadata": {},
     "output_type": "execute_result"
    }
   ],
   "source": [
    "len(MAE_LIST),len(DUR_LIST),len(NAME_LIST)"
   ]
  },
  {
   "cell_type": "code",
   "execution_count": null,
   "metadata": {},
   "outputs": [],
   "source": []
  },
  {
   "cell_type": "code",
   "execution_count": 94,
   "metadata": {
    "scrolled": true
   },
   "outputs": [
    {
     "data": {
      "text/html": [
       "<div>\n",
       "<style scoped>\n",
       "    .dataframe tbody tr th:only-of-type {\n",
       "        vertical-align: middle;\n",
       "    }\n",
       "\n",
       "    .dataframe tbody tr th {\n",
       "        vertical-align: top;\n",
       "    }\n",
       "\n",
       "    .dataframe thead th {\n",
       "        text-align: right;\n",
       "    }\n",
       "</style>\n",
       "<table border=\"1\" class=\"dataframe\">\n",
       "  <thead>\n",
       "    <tr style=\"text-align: right;\">\n",
       "      <th></th>\n",
       "      <th>MAE</th>\n",
       "      <th>DUR</th>\n",
       "      <th>NAME</th>\n",
       "    </tr>\n",
       "    <tr>\n",
       "      <th>NAME</th>\n",
       "      <th></th>\n",
       "      <th></th>\n",
       "      <th></th>\n",
       "    </tr>\n",
       "  </thead>\n",
       "  <tbody>\n",
       "    <tr>\n",
       "      <td>GP GCN</td>\n",
       "      <td>0.004740</td>\n",
       "      <td>1.871572</td>\n",
       "      <td>GP GCN</td>\n",
       "    </tr>\n",
       "    <tr>\n",
       "      <td>HSR GCN</td>\n",
       "      <td>0.009112</td>\n",
       "      <td>2.057974</td>\n",
       "      <td>HSR GCN</td>\n",
       "    </tr>\n",
       "    <tr>\n",
       "      <td>AL GCN</td>\n",
       "      <td>0.008684</td>\n",
       "      <td>2.109484</td>\n",
       "      <td>AL GCN</td>\n",
       "    </tr>\n",
       "    <tr>\n",
       "      <td>ALHSR GCN</td>\n",
       "      <td>0.007421</td>\n",
       "      <td>2.331959</td>\n",
       "      <td>ALHSR GCN</td>\n",
       "    </tr>\n",
       "    <tr>\n",
       "      <td>RNN</td>\n",
       "      <td>0.179105</td>\n",
       "      <td>9.129840</td>\n",
       "      <td>RNN</td>\n",
       "    </tr>\n",
       "    <tr>\n",
       "      <td>GRU</td>\n",
       "      <td>0.089779</td>\n",
       "      <td>33.557264</td>\n",
       "      <td>GRU</td>\n",
       "    </tr>\n",
       "    <tr>\n",
       "      <td>LSTM</td>\n",
       "      <td>0.086557</td>\n",
       "      <td>47.286831</td>\n",
       "      <td>LSTM</td>\n",
       "    </tr>\n",
       "  </tbody>\n",
       "</table>\n",
       "</div>"
      ],
      "text/plain": [
       "                MAE        DUR       NAME\n",
       "NAME                                     \n",
       "GP GCN     0.004740   1.871572     GP GCN\n",
       "HSR GCN    0.009112   2.057974    HSR GCN\n",
       "AL GCN     0.008684   2.109484     AL GCN\n",
       "ALHSR GCN  0.007421   2.331959  ALHSR GCN\n",
       "RNN        0.179105   9.129840        RNN\n",
       "GRU        0.089779  33.557264        GRU\n",
       "LSTM       0.086557  47.286831       LSTM"
      ]
     },
     "execution_count": 94,
     "metadata": {},
     "output_type": "execute_result"
    }
   ],
   "source": [
    "MAEDUR_dict={'MAE':MAE_LIST,'DUR':DUR_LIST,'NAME':NAME_LIST}\n",
    "MAEDUR=pd.DataFrame(MAEDUR_dict)\n",
    "MAEDUR=MAEDUR.set_index(MAEDUR['NAME'])\n",
    "MAEDUR"
   ]
  },
  {
   "cell_type": "code",
   "execution_count": 115,
   "metadata": {
    "scrolled": false
   },
   "outputs": [
    {
     "name": "stderr",
     "output_type": "stream",
     "text": [
      "/Users/yangchengyi/anaconda3/lib/python3.7/site-packages/ipykernel_launcher.py:41: UserWarning: Matplotlib is currently using module://ipykernel.pylab.backend_inline, which is a non-GUI backend, so cannot show the figure.\n"
     ]
    },
    {
     "data": {
      "image/png": "[encoded data removed]",
      "text/plain": [
       "<Figure size 864x576 with 2 Axes>"
      ]
     },
     "metadata": {},
     "output_type": "display_data"
    }
   ],
   "source": [
    "fig,ax=plt.subplots(1,1,figsize=(12,8))\n",
    "plt.xticks(rotation=50,fontsize=24)\n",
    "plt.yticks(fontsize=24)\n",
    "plt.grid(False) \n",
    "ax1=ax.twinx()\n",
    "\n",
    "ax1.plot(MAEDUR['DUR'],color='#BE4B48',linewidth=4,label='Total Time Consuming',alpha=0.5)\n",
    "\n",
    "\n",
    "ax.bar(MAEDUR['NAME'],MAEDUR['MAE'],width=0.5,label='Average Normalized MAE',color='cornflowerblue',alpha=0.8)\n",
    "#ax.legend(loc='best')\n",
    "\n",
    "plt.yticks(fontsize=24)\n",
    "ax.set_xlabel(r'Deep Learning Method',fontsize=25)\n",
    "ax.set_ylabel(r'Average Normalized MAE',fontsize=25)     #plt.xticks(rotation=50,fontsize=13)\n",
    "\n",
    "\n",
    "\n",
    "ax1.set_ylabel(r'Total Time Consuming',fontsize=25)\n",
    "#plt.legend(loc=2,fontsize=14)\n",
    "\n",
    "\n",
    "legend1=ax.legend(loc=(.02,.885),fontsize=24,shadow=True)\n",
    "legend2=ax1.legend(loc=(.02,.78),fontsize=24,shadow=True)\n",
    "\n",
    "\n",
    "\n",
    "\n",
    "\n",
    "for a,b in zip(MAEDUR.index,MAEDUR['MAE']):\n",
    "    plt.text(a, b, '%.4f' % b, ha='center', va=\"bottom\",fontsize=24)\n",
    "\n",
    "'''\n",
    "for a,b in zip(MAEDUR.index,MAEDUR['DUR']):\n",
    "    plt.text(a, b+0.5, '%.2f' % b, ha='center', va=\"bottom\",fontsize=16)\n",
    "'''\n",
    "\n",
    "\n",
    "plt.title('MAE Loss and Time Consume Comparison on Test Set ',fontsize=27) \n",
    "\n",
    "fig.show()"
   ]
  },
  {
   "cell_type": "code",
   "execution_count": null,
   "metadata": {
    "scrolled": true
   },
   "outputs": [],
   "source": []
  },
  {
   "cell_type": "code",
   "execution_count": null,
   "metadata": {},
   "outputs": [],
   "source": []
  },
  {
   "cell_type": "code",
   "execution_count": null,
   "metadata": {},
   "outputs": [],
   "source": []
  },
  {
   "cell_type": "code",
   "execution_count": null,
   "metadata": {},
   "outputs": [],
   "source": []
  },
  {
   "cell_type": "code",
   "execution_count": null,
   "metadata": {},
   "outputs": [],
   "source": []
  },
  {
   "cell_type": "code",
   "execution_count": null,
   "metadata": {},
   "outputs": [],
   "source": []
  },
  {
   "cell_type": "code",
   "execution_count": null,
   "metadata": {},
   "outputs": [],
   "source": []
  }
 ],
 "metadata": {
  "kernelspec": {
   "display_name": "Python 3",
   "language": "python",
   "name": "python3"
  },
  "language_info": {
   "codemirror_mode": {
    "name": "ipython",
    "version": 3
   },
   "file_extension": ".py",
   "mimetype": "text/x-python",
   "name": "python",
   "nbconvert_exporter": "python",
   "pygments_lexer": "ipython3",
   "version": "3.7.10"
  }
 },
 "nbformat": 4,
 "nbformat_minor": 2
}
